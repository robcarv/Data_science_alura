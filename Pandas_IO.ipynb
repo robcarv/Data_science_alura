{
  "nbformat": 4,
  "nbformat_minor": 0,
  "metadata": {
    "colab": {
      "name": "Pandas IO.ipynb",
      "provenance": [],
      "authorship_tag": "ABX9TyM+O/OtNWJacYQRPjCClhat",
      "include_colab_link": true
    },
    "kernelspec": {
      "name": "python3",
      "display_name": "Python 3"
    },
    "language_info": {
      "name": "python"
    }
  },
  "cells": [
    {
      "cell_type": "markdown",
      "metadata": {
        "id": "view-in-github",
        "colab_type": "text"
      },
      "source": [
        "<a href=\"https://colab.research.google.com/github/robcarv/Data_science_alura/blob/master/Pandas_IO.ipynb\" target=\"_parent\"><img src=\"https://colab.research.google.com/assets/colab-badge.svg\" alt=\"Open In Colab\"/></a>"
      ]
    },
    {
      "cell_type": "code",
      "metadata": {
        "id": "sve19C6-ozfj"
      },
      "source": [
        "##Criando os nomes"
      ],
      "execution_count": 60,
      "outputs": []
    },
    {
      "cell_type": "markdown",
      "metadata": {
        "id": "hgAibuchpHup"
      },
      "source": [
        "# Criando os nomes"
      ]
    },
    {
      "cell_type": "markdown",
      "metadata": {
        "id": "GtCoiYNDpLgh"
      },
      "source": [
        ""
      ]
    },
    {
      "cell_type": "code",
      "metadata": {
        "id": "G4ycqdbjjr8a"
      },
      "source": [
        "import pandas as pd"
      ],
      "execution_count": 61,
      "outputs": []
    },
    {
      "cell_type": "code",
      "metadata": {
        "id": "2eNUT7gZkZPl"
      },
      "source": [
        "nomes_m = pd.read_json('https://servicodados.ibge.gov.br/api/v1/censos/nomes/ranking?qtd=200&sexo=m')\n",
        "nomes_f = pd.read_json('https://servicodados.ibge.gov.br/api/v1/censos/nomes/ranking?qtd=200&sexo=f')"
      ],
      "execution_count": 62,
      "outputs": []
    },
    {
      "cell_type": "code",
      "metadata": {
        "colab": {
          "base_uri": "https://localhost:8080/",
          "height": 419
        },
        "id": "DUDTM7NhknWk",
        "outputId": "f0c949ae-e9b0-4479-f597-25b2775c0b14"
      },
      "source": [
        "nomes_m"
      ],
      "execution_count": 63,
      "outputs": [
        {
          "output_type": "execute_result",
          "data": {
            "text/html": [
              "<div>\n",
              "<style scoped>\n",
              "    .dataframe tbody tr th:only-of-type {\n",
              "        vertical-align: middle;\n",
              "    }\n",
              "\n",
              "    .dataframe tbody tr th {\n",
              "        vertical-align: top;\n",
              "    }\n",
              "\n",
              "    .dataframe thead th {\n",
              "        text-align: right;\n",
              "    }\n",
              "</style>\n",
              "<table border=\"1\" class=\"dataframe\">\n",
              "  <thead>\n",
              "    <tr style=\"text-align: right;\">\n",
              "      <th></th>\n",
              "      <th>nome</th>\n",
              "      <th>regiao</th>\n",
              "      <th>freq</th>\n",
              "      <th>rank</th>\n",
              "      <th>sexo</th>\n",
              "    </tr>\n",
              "  </thead>\n",
              "  <tbody>\n",
              "    <tr>\n",
              "      <th>0</th>\n",
              "      <td>JOSE</td>\n",
              "      <td>0</td>\n",
              "      <td>5732508</td>\n",
              "      <td>1</td>\n",
              "      <td>M</td>\n",
              "    </tr>\n",
              "    <tr>\n",
              "      <th>1</th>\n",
              "      <td>JOAO</td>\n",
              "      <td>0</td>\n",
              "      <td>2971935</td>\n",
              "      <td>2</td>\n",
              "      <td>M</td>\n",
              "    </tr>\n",
              "    <tr>\n",
              "      <th>2</th>\n",
              "      <td>ANTONIO</td>\n",
              "      <td>0</td>\n",
              "      <td>2567494</td>\n",
              "      <td>3</td>\n",
              "      <td>M</td>\n",
              "    </tr>\n",
              "    <tr>\n",
              "      <th>3</th>\n",
              "      <td>FRANCISCO</td>\n",
              "      <td>0</td>\n",
              "      <td>1765197</td>\n",
              "      <td>4</td>\n",
              "      <td>M</td>\n",
              "    </tr>\n",
              "    <tr>\n",
              "      <th>4</th>\n",
              "      <td>CARLOS</td>\n",
              "      <td>0</td>\n",
              "      <td>1483121</td>\n",
              "      <td>5</td>\n",
              "      <td>M</td>\n",
              "    </tr>\n",
              "    <tr>\n",
              "      <th>...</th>\n",
              "      <td>...</td>\n",
              "      <td>...</td>\n",
              "      <td>...</td>\n",
              "      <td>...</td>\n",
              "      <td>...</td>\n",
              "    </tr>\n",
              "    <tr>\n",
              "      <th>195</th>\n",
              "      <td>WALTER</td>\n",
              "      <td>0</td>\n",
              "      <td>67207</td>\n",
              "      <td>196</td>\n",
              "      <td>M</td>\n",
              "    </tr>\n",
              "    <tr>\n",
              "      <th>196</th>\n",
              "      <td>ARLINDO</td>\n",
              "      <td>0</td>\n",
              "      <td>66669</td>\n",
              "      <td>197</td>\n",
              "      <td>M</td>\n",
              "    </tr>\n",
              "    <tr>\n",
              "      <th>197</th>\n",
              "      <td>MICHAEL</td>\n",
              "      <td>0</td>\n",
              "      <td>65736</td>\n",
              "      <td>198</td>\n",
              "      <td>M</td>\n",
              "    </tr>\n",
              "    <tr>\n",
              "      <th>198</th>\n",
              "      <td>ALVARO</td>\n",
              "      <td>0</td>\n",
              "      <td>65444</td>\n",
              "      <td>199</td>\n",
              "      <td>M</td>\n",
              "    </tr>\n",
              "    <tr>\n",
              "      <th>199</th>\n",
              "      <td>GEOVANE</td>\n",
              "      <td>0</td>\n",
              "      <td>65435</td>\n",
              "      <td>200</td>\n",
              "      <td>M</td>\n",
              "    </tr>\n",
              "  </tbody>\n",
              "</table>\n",
              "<p>200 rows × 5 columns</p>\n",
              "</div>"
            ],
            "text/plain": [
              "          nome  regiao     freq  rank sexo\n",
              "0         JOSE       0  5732508     1    M\n",
              "1         JOAO       0  2971935     2    M\n",
              "2      ANTONIO       0  2567494     3    M\n",
              "3    FRANCISCO       0  1765197     4    M\n",
              "4       CARLOS       0  1483121     5    M\n",
              "..         ...     ...      ...   ...  ...\n",
              "195     WALTER       0    67207   196    M\n",
              "196    ARLINDO       0    66669   197    M\n",
              "197    MICHAEL       0    65736   198    M\n",
              "198     ALVARO       0    65444   199    M\n",
              "199    GEOVANE       0    65435   200    M\n",
              "\n",
              "[200 rows x 5 columns]"
            ]
          },
          "metadata": {
            "tags": []
          },
          "execution_count": 63
        }
      ]
    },
    {
      "cell_type": "code",
      "metadata": {
        "colab": {
          "base_uri": "https://localhost:8080/"
        },
        "id": "0b1cDQ0ClTtG",
        "outputId": "4aba6647-e450-401d-c6ef-76bfe4541ecd"
      },
      "source": [
        "print(\"Quantidade de nomes: \" + str(len(nomes_f) + len(nomes_m)))"
      ],
      "execution_count": 64,
      "outputs": [
        {
          "output_type": "stream",
          "text": [
            "Quantidade de nomes: 400\n"
          ],
          "name": "stdout"
        }
      ]
    },
    {
      "cell_type": "code",
      "metadata": {
        "id": "USqKIuuilk-i"
      },
      "source": [
        "frames = [nomes_f,nomes_m]"
      ],
      "execution_count": 65,
      "outputs": []
    },
    {
      "cell_type": "code",
      "metadata": {
        "colab": {
          "base_uri": "https://localhost:8080/",
          "height": 419
        },
        "id": "9rAuoEn-mhhY",
        "outputId": "79cd84d6-d4bc-4fa9-ee98-1f4f7e58e0a7"
      },
      "source": [
        "pd.concat(frames)['nome'].to_frame()"
      ],
      "execution_count": 66,
      "outputs": [
        {
          "output_type": "execute_result",
          "data": {
            "text/html": [
              "<div>\n",
              "<style scoped>\n",
              "    .dataframe tbody tr th:only-of-type {\n",
              "        vertical-align: middle;\n",
              "    }\n",
              "\n",
              "    .dataframe tbody tr th {\n",
              "        vertical-align: top;\n",
              "    }\n",
              "\n",
              "    .dataframe thead th {\n",
              "        text-align: right;\n",
              "    }\n",
              "</style>\n",
              "<table border=\"1\" class=\"dataframe\">\n",
              "  <thead>\n",
              "    <tr style=\"text-align: right;\">\n",
              "      <th></th>\n",
              "      <th>nome</th>\n",
              "    </tr>\n",
              "  </thead>\n",
              "  <tbody>\n",
              "    <tr>\n",
              "      <th>0</th>\n",
              "      <td>MARIA</td>\n",
              "    </tr>\n",
              "    <tr>\n",
              "      <th>1</th>\n",
              "      <td>ANA</td>\n",
              "    </tr>\n",
              "    <tr>\n",
              "      <th>2</th>\n",
              "      <td>FRANCISCA</td>\n",
              "    </tr>\n",
              "    <tr>\n",
              "      <th>3</th>\n",
              "      <td>ANTONIA</td>\n",
              "    </tr>\n",
              "    <tr>\n",
              "      <th>4</th>\n",
              "      <td>ADRIANA</td>\n",
              "    </tr>\n",
              "    <tr>\n",
              "      <th>...</th>\n",
              "      <td>...</td>\n",
              "    </tr>\n",
              "    <tr>\n",
              "      <th>195</th>\n",
              "      <td>WALTER</td>\n",
              "    </tr>\n",
              "    <tr>\n",
              "      <th>196</th>\n",
              "      <td>ARLINDO</td>\n",
              "    </tr>\n",
              "    <tr>\n",
              "      <th>197</th>\n",
              "      <td>MICHAEL</td>\n",
              "    </tr>\n",
              "    <tr>\n",
              "      <th>198</th>\n",
              "      <td>ALVARO</td>\n",
              "    </tr>\n",
              "    <tr>\n",
              "      <th>199</th>\n",
              "      <td>GEOVANE</td>\n",
              "    </tr>\n",
              "  </tbody>\n",
              "</table>\n",
              "<p>400 rows × 1 columns</p>\n",
              "</div>"
            ],
            "text/plain": [
              "          nome\n",
              "0        MARIA\n",
              "1          ANA\n",
              "2    FRANCISCA\n",
              "3      ANTONIA\n",
              "4      ADRIANA\n",
              "..         ...\n",
              "195     WALTER\n",
              "196    ARLINDO\n",
              "197    MICHAEL\n",
              "198     ALVARO\n",
              "199    GEOVANE\n",
              "\n",
              "[400 rows x 1 columns]"
            ]
          },
          "metadata": {
            "tags": []
          },
          "execution_count": 66
        }
      ]
    },
    {
      "cell_type": "code",
      "metadata": {
        "id": "DbvZD-X2m60P"
      },
      "source": [
        "nomes= pd.concat(frames)['nome'].to_frame()"
      ],
      "execution_count": 67,
      "outputs": []
    },
    {
      "cell_type": "code",
      "metadata": {
        "colab": {
          "base_uri": "https://localhost:8080/",
          "height": 419
        },
        "id": "EUiNSwqJnDgl",
        "outputId": "bc9c8ad1-8a2d-4f5b-ef74-0db95b213a64"
      },
      "source": [
        "nomes.sample(400)"
      ],
      "execution_count": 68,
      "outputs": [
        {
          "output_type": "execute_result",
          "data": {
            "text/html": [
              "<div>\n",
              "<style scoped>\n",
              "    .dataframe tbody tr th:only-of-type {\n",
              "        vertical-align: middle;\n",
              "    }\n",
              "\n",
              "    .dataframe tbody tr th {\n",
              "        vertical-align: top;\n",
              "    }\n",
              "\n",
              "    .dataframe thead th {\n",
              "        text-align: right;\n",
              "    }\n",
              "</style>\n",
              "<table border=\"1\" class=\"dataframe\">\n",
              "  <thead>\n",
              "    <tr style=\"text-align: right;\">\n",
              "      <th></th>\n",
              "      <th>nome</th>\n",
              "    </tr>\n",
              "  </thead>\n",
              "  <tbody>\n",
              "    <tr>\n",
              "      <th>54</th>\n",
              "      <td>MARIO</td>\n",
              "    </tr>\n",
              "    <tr>\n",
              "      <th>176</th>\n",
              "      <td>CELIO</td>\n",
              "    </tr>\n",
              "    <tr>\n",
              "      <th>80</th>\n",
              "      <td>EMERSON</td>\n",
              "    </tr>\n",
              "    <tr>\n",
              "      <th>88</th>\n",
              "      <td>GILMAR</td>\n",
              "    </tr>\n",
              "    <tr>\n",
              "      <th>35</th>\n",
              "      <td>CARLA</td>\n",
              "    </tr>\n",
              "    <tr>\n",
              "      <th>...</th>\n",
              "      <td>...</td>\n",
              "    </tr>\n",
              "    <tr>\n",
              "      <th>173</th>\n",
              "      <td>JAILSON</td>\n",
              "    </tr>\n",
              "    <tr>\n",
              "      <th>112</th>\n",
              "      <td>VANDERLEI</td>\n",
              "    </tr>\n",
              "    <tr>\n",
              "      <th>39</th>\n",
              "      <td>VITOR</td>\n",
              "    </tr>\n",
              "    <tr>\n",
              "      <th>6</th>\n",
              "      <td>MARCIA</td>\n",
              "    </tr>\n",
              "    <tr>\n",
              "      <th>48</th>\n",
              "      <td>RAQUEL</td>\n",
              "    </tr>\n",
              "  </tbody>\n",
              "</table>\n",
              "<p>400 rows × 1 columns</p>\n",
              "</div>"
            ],
            "text/plain": [
              "          nome\n",
              "54       MARIO\n",
              "176      CELIO\n",
              "80     EMERSON\n",
              "88      GILMAR\n",
              "35       CARLA\n",
              "..         ...\n",
              "173    JAILSON\n",
              "112  VANDERLEI\n",
              "39       VITOR\n",
              "6       MARCIA\n",
              "48      RAQUEL\n",
              "\n",
              "[400 rows x 1 columns]"
            ]
          },
          "metadata": {
            "tags": []
          },
          "execution_count": 68
        }
      ]
    },
    {
      "cell_type": "code",
      "metadata": {
        "id": "fx8gPooonGSR"
      },
      "source": [
        ""
      ],
      "execution_count": 68,
      "outputs": []
    },
    {
      "cell_type": "markdown",
      "metadata": {
        "id": "x8th9e4wpCi0"
      },
      "source": [
        "# Incluindo ID alunos"
      ]
    },
    {
      "cell_type": "code",
      "metadata": {
        "id": "w2PJtIvVpGVK"
      },
      "source": [
        "import numpy as np\n",
        "np.random.seed(123)"
      ],
      "execution_count": 69,
      "outputs": []
    },
    {
      "cell_type": "code",
      "metadata": {
        "colab": {
          "base_uri": "https://localhost:8080/"
        },
        "id": "XhKskdzQpXOE",
        "outputId": "4475e5ac-06ab-4d0a-c0c5-49fb0d9f8b27"
      },
      "source": [
        "total_alunos = len(nomes)\n",
        "total_alunos"
      ],
      "execution_count": 70,
      "outputs": [
        {
          "output_type": "execute_result",
          "data": {
            "text/plain": [
              "400"
            ]
          },
          "metadata": {
            "tags": []
          },
          "execution_count": 70
        }
      ]
    },
    {
      "cell_type": "code",
      "metadata": {
        "id": "I1SMks7Wpd9V"
      },
      "source": [
        "nomes['id_aluno'] =np.random"
      ],
      "execution_count": 71,
      "outputs": []
    },
    {
      "cell_type": "code",
      "metadata": {
        "colab": {
          "base_uri": "https://localhost:8080/",
          "height": 419
        },
        "id": "q9FQxzxNpkJ_",
        "outputId": "c4387269-116c-48a6-942d-4c4bb43c8bd3"
      },
      "source": [
        "nomes"
      ],
      "execution_count": 72,
      "outputs": [
        {
          "output_type": "execute_result",
          "data": {
            "text/html": [
              "<div>\n",
              "<style scoped>\n",
              "    .dataframe tbody tr th:only-of-type {\n",
              "        vertical-align: middle;\n",
              "    }\n",
              "\n",
              "    .dataframe tbody tr th {\n",
              "        vertical-align: top;\n",
              "    }\n",
              "\n",
              "    .dataframe thead th {\n",
              "        text-align: right;\n",
              "    }\n",
              "</style>\n",
              "<table border=\"1\" class=\"dataframe\">\n",
              "  <thead>\n",
              "    <tr style=\"text-align: right;\">\n",
              "      <th></th>\n",
              "      <th>nome</th>\n",
              "      <th>id_aluno</th>\n",
              "    </tr>\n",
              "  </thead>\n",
              "  <tbody>\n",
              "    <tr>\n",
              "      <th>0</th>\n",
              "      <td>MARIA</td>\n",
              "      <td>&lt;module 'numpy.random' from '/usr/local/lib/py...</td>\n",
              "    </tr>\n",
              "    <tr>\n",
              "      <th>1</th>\n",
              "      <td>ANA</td>\n",
              "      <td>&lt;module 'numpy.random' from '/usr/local/lib/py...</td>\n",
              "    </tr>\n",
              "    <tr>\n",
              "      <th>2</th>\n",
              "      <td>FRANCISCA</td>\n",
              "      <td>&lt;module 'numpy.random' from '/usr/local/lib/py...</td>\n",
              "    </tr>\n",
              "    <tr>\n",
              "      <th>3</th>\n",
              "      <td>ANTONIA</td>\n",
              "      <td>&lt;module 'numpy.random' from '/usr/local/lib/py...</td>\n",
              "    </tr>\n",
              "    <tr>\n",
              "      <th>4</th>\n",
              "      <td>ADRIANA</td>\n",
              "      <td>&lt;module 'numpy.random' from '/usr/local/lib/py...</td>\n",
              "    </tr>\n",
              "    <tr>\n",
              "      <th>...</th>\n",
              "      <td>...</td>\n",
              "      <td>...</td>\n",
              "    </tr>\n",
              "    <tr>\n",
              "      <th>195</th>\n",
              "      <td>WALTER</td>\n",
              "      <td>&lt;module 'numpy.random' from '/usr/local/lib/py...</td>\n",
              "    </tr>\n",
              "    <tr>\n",
              "      <th>196</th>\n",
              "      <td>ARLINDO</td>\n",
              "      <td>&lt;module 'numpy.random' from '/usr/local/lib/py...</td>\n",
              "    </tr>\n",
              "    <tr>\n",
              "      <th>197</th>\n",
              "      <td>MICHAEL</td>\n",
              "      <td>&lt;module 'numpy.random' from '/usr/local/lib/py...</td>\n",
              "    </tr>\n",
              "    <tr>\n",
              "      <th>198</th>\n",
              "      <td>ALVARO</td>\n",
              "      <td>&lt;module 'numpy.random' from '/usr/local/lib/py...</td>\n",
              "    </tr>\n",
              "    <tr>\n",
              "      <th>199</th>\n",
              "      <td>GEOVANE</td>\n",
              "      <td>&lt;module 'numpy.random' from '/usr/local/lib/py...</td>\n",
              "    </tr>\n",
              "  </tbody>\n",
              "</table>\n",
              "<p>400 rows × 2 columns</p>\n",
              "</div>"
            ],
            "text/plain": [
              "          nome                                           id_aluno\n",
              "0        MARIA  <module 'numpy.random' from '/usr/local/lib/py...\n",
              "1          ANA  <module 'numpy.random' from '/usr/local/lib/py...\n",
              "2    FRANCISCA  <module 'numpy.random' from '/usr/local/lib/py...\n",
              "3      ANTONIA  <module 'numpy.random' from '/usr/local/lib/py...\n",
              "4      ADRIANA  <module 'numpy.random' from '/usr/local/lib/py...\n",
              "..         ...                                                ...\n",
              "195     WALTER  <module 'numpy.random' from '/usr/local/lib/py...\n",
              "196    ARLINDO  <module 'numpy.random' from '/usr/local/lib/py...\n",
              "197    MICHAEL  <module 'numpy.random' from '/usr/local/lib/py...\n",
              "198     ALVARO  <module 'numpy.random' from '/usr/local/lib/py...\n",
              "199    GEOVANE  <module 'numpy.random' from '/usr/local/lib/py...\n",
              "\n",
              "[400 rows x 2 columns]"
            ]
          },
          "metadata": {
            "tags": []
          },
          "execution_count": 72
        }
      ]
    },
    {
      "cell_type": "code",
      "metadata": {
        "colab": {
          "base_uri": "https://localhost:8080/",
          "height": 419
        },
        "id": "R2b-VgV_qLJY",
        "outputId": "9f6d125e-8390-43aa-ee84-ec3826e946cd"
      },
      "source": [
        "nomes"
      ],
      "execution_count": 73,
      "outputs": [
        {
          "output_type": "execute_result",
          "data": {
            "text/html": [
              "<div>\n",
              "<style scoped>\n",
              "    .dataframe tbody tr th:only-of-type {\n",
              "        vertical-align: middle;\n",
              "    }\n",
              "\n",
              "    .dataframe tbody tr th {\n",
              "        vertical-align: top;\n",
              "    }\n",
              "\n",
              "    .dataframe thead th {\n",
              "        text-align: right;\n",
              "    }\n",
              "</style>\n",
              "<table border=\"1\" class=\"dataframe\">\n",
              "  <thead>\n",
              "    <tr style=\"text-align: right;\">\n",
              "      <th></th>\n",
              "      <th>nome</th>\n",
              "      <th>id_aluno</th>\n",
              "    </tr>\n",
              "  </thead>\n",
              "  <tbody>\n",
              "    <tr>\n",
              "      <th>0</th>\n",
              "      <td>MARIA</td>\n",
              "      <td>&lt;module 'numpy.random' from '/usr/local/lib/py...</td>\n",
              "    </tr>\n",
              "    <tr>\n",
              "      <th>1</th>\n",
              "      <td>ANA</td>\n",
              "      <td>&lt;module 'numpy.random' from '/usr/local/lib/py...</td>\n",
              "    </tr>\n",
              "    <tr>\n",
              "      <th>2</th>\n",
              "      <td>FRANCISCA</td>\n",
              "      <td>&lt;module 'numpy.random' from '/usr/local/lib/py...</td>\n",
              "    </tr>\n",
              "    <tr>\n",
              "      <th>3</th>\n",
              "      <td>ANTONIA</td>\n",
              "      <td>&lt;module 'numpy.random' from '/usr/local/lib/py...</td>\n",
              "    </tr>\n",
              "    <tr>\n",
              "      <th>4</th>\n",
              "      <td>ADRIANA</td>\n",
              "      <td>&lt;module 'numpy.random' from '/usr/local/lib/py...</td>\n",
              "    </tr>\n",
              "    <tr>\n",
              "      <th>...</th>\n",
              "      <td>...</td>\n",
              "      <td>...</td>\n",
              "    </tr>\n",
              "    <tr>\n",
              "      <th>195</th>\n",
              "      <td>WALTER</td>\n",
              "      <td>&lt;module 'numpy.random' from '/usr/local/lib/py...</td>\n",
              "    </tr>\n",
              "    <tr>\n",
              "      <th>196</th>\n",
              "      <td>ARLINDO</td>\n",
              "      <td>&lt;module 'numpy.random' from '/usr/local/lib/py...</td>\n",
              "    </tr>\n",
              "    <tr>\n",
              "      <th>197</th>\n",
              "      <td>MICHAEL</td>\n",
              "      <td>&lt;module 'numpy.random' from '/usr/local/lib/py...</td>\n",
              "    </tr>\n",
              "    <tr>\n",
              "      <th>198</th>\n",
              "      <td>ALVARO</td>\n",
              "      <td>&lt;module 'numpy.random' from '/usr/local/lib/py...</td>\n",
              "    </tr>\n",
              "    <tr>\n",
              "      <th>199</th>\n",
              "      <td>GEOVANE</td>\n",
              "      <td>&lt;module 'numpy.random' from '/usr/local/lib/py...</td>\n",
              "    </tr>\n",
              "  </tbody>\n",
              "</table>\n",
              "<p>400 rows × 2 columns</p>\n",
              "</div>"
            ],
            "text/plain": [
              "          nome                                           id_aluno\n",
              "0        MARIA  <module 'numpy.random' from '/usr/local/lib/py...\n",
              "1          ANA  <module 'numpy.random' from '/usr/local/lib/py...\n",
              "2    FRANCISCA  <module 'numpy.random' from '/usr/local/lib/py...\n",
              "3      ANTONIA  <module 'numpy.random' from '/usr/local/lib/py...\n",
              "4      ADRIANA  <module 'numpy.random' from '/usr/local/lib/py...\n",
              "..         ...                                                ...\n",
              "195     WALTER  <module 'numpy.random' from '/usr/local/lib/py...\n",
              "196    ARLINDO  <module 'numpy.random' from '/usr/local/lib/py...\n",
              "197    MICHAEL  <module 'numpy.random' from '/usr/local/lib/py...\n",
              "198     ALVARO  <module 'numpy.random' from '/usr/local/lib/py...\n",
              "199    GEOVANE  <module 'numpy.random' from '/usr/local/lib/py...\n",
              "\n",
              "[400 rows x 2 columns]"
            ]
          },
          "metadata": {
            "tags": []
          },
          "execution_count": 73
        }
      ]
    },
    {
      "cell_type": "code",
      "metadata": {
        "colab": {
          "base_uri": "https://localhost:8080/",
          "height": 173
        },
        "id": "uFr_4T9NqNrE",
        "outputId": "67072eaf-d98e-4389-cf1a-94c6d78d8145"
      },
      "source": [
        "nomes.sample(4)"
      ],
      "execution_count": 74,
      "outputs": [
        {
          "output_type": "execute_result",
          "data": {
            "text/html": [
              "<div>\n",
              "<style scoped>\n",
              "    .dataframe tbody tr th:only-of-type {\n",
              "        vertical-align: middle;\n",
              "    }\n",
              "\n",
              "    .dataframe tbody tr th {\n",
              "        vertical-align: top;\n",
              "    }\n",
              "\n",
              "    .dataframe thead th {\n",
              "        text-align: right;\n",
              "    }\n",
              "</style>\n",
              "<table border=\"1\" class=\"dataframe\">\n",
              "  <thead>\n",
              "    <tr style=\"text-align: right;\">\n",
              "      <th></th>\n",
              "      <th>nome</th>\n",
              "      <th>id_aluno</th>\n",
              "    </tr>\n",
              "  </thead>\n",
              "  <tbody>\n",
              "    <tr>\n",
              "      <th>34</th>\n",
              "      <td>SEBASTIAO</td>\n",
              "      <td>&lt;module 'numpy.random' from '/usr/local/lib/py...</td>\n",
              "    </tr>\n",
              "    <tr>\n",
              "      <th>42</th>\n",
              "      <td>MARLENE</td>\n",
              "      <td>&lt;module 'numpy.random' from '/usr/local/lib/py...</td>\n",
              "    </tr>\n",
              "    <tr>\n",
              "      <th>103</th>\n",
              "      <td>MAICON</td>\n",
              "      <td>&lt;module 'numpy.random' from '/usr/local/lib/py...</td>\n",
              "    </tr>\n",
              "    <tr>\n",
              "      <th>155</th>\n",
              "      <td>CECILIA</td>\n",
              "      <td>&lt;module 'numpy.random' from '/usr/local/lib/py...</td>\n",
              "    </tr>\n",
              "  </tbody>\n",
              "</table>\n",
              "</div>"
            ],
            "text/plain": [
              "          nome                                           id_aluno\n",
              "34   SEBASTIAO  <module 'numpy.random' from '/usr/local/lib/py...\n",
              "42     MARLENE  <module 'numpy.random' from '/usr/local/lib/py...\n",
              "103     MAICON  <module 'numpy.random' from '/usr/local/lib/py...\n",
              "155    CECILIA  <module 'numpy.random' from '/usr/local/lib/py..."
            ]
          },
          "metadata": {
            "tags": []
          },
          "execution_count": 74
        }
      ]
    },
    {
      "cell_type": "code",
      "metadata": {
        "id": "mnlO0f3eq0Wf"
      },
      "source": [
        "nomes['id_aluno'] = np.random.permutation(total_alunos) +1"
      ],
      "execution_count": 75,
      "outputs": []
    },
    {
      "cell_type": "code",
      "metadata": {
        "colab": {
          "base_uri": "https://localhost:8080/",
          "height": 419
        },
        "id": "STwW_56MrMeV",
        "outputId": "55e85782-f5ec-4718-cedd-61870bf09626"
      },
      "source": [
        "nomes"
      ],
      "execution_count": 76,
      "outputs": [
        {
          "output_type": "execute_result",
          "data": {
            "text/html": [
              "<div>\n",
              "<style scoped>\n",
              "    .dataframe tbody tr th:only-of-type {\n",
              "        vertical-align: middle;\n",
              "    }\n",
              "\n",
              "    .dataframe tbody tr th {\n",
              "        vertical-align: top;\n",
              "    }\n",
              "\n",
              "    .dataframe thead th {\n",
              "        text-align: right;\n",
              "    }\n",
              "</style>\n",
              "<table border=\"1\" class=\"dataframe\">\n",
              "  <thead>\n",
              "    <tr style=\"text-align: right;\">\n",
              "      <th></th>\n",
              "      <th>nome</th>\n",
              "      <th>id_aluno</th>\n",
              "    </tr>\n",
              "  </thead>\n",
              "  <tbody>\n",
              "    <tr>\n",
              "      <th>0</th>\n",
              "      <td>MARIA</td>\n",
              "      <td>189</td>\n",
              "    </tr>\n",
              "    <tr>\n",
              "      <th>1</th>\n",
              "      <td>ANA</td>\n",
              "      <td>58</td>\n",
              "    </tr>\n",
              "    <tr>\n",
              "      <th>2</th>\n",
              "      <td>FRANCISCA</td>\n",
              "      <td>204</td>\n",
              "    </tr>\n",
              "    <tr>\n",
              "      <th>3</th>\n",
              "      <td>ANTONIA</td>\n",
              "      <td>383</td>\n",
              "    </tr>\n",
              "    <tr>\n",
              "      <th>4</th>\n",
              "      <td>ADRIANA</td>\n",
              "      <td>231</td>\n",
              "    </tr>\n",
              "    <tr>\n",
              "      <th>...</th>\n",
              "      <td>...</td>\n",
              "      <td>...</td>\n",
              "    </tr>\n",
              "    <tr>\n",
              "      <th>195</th>\n",
              "      <td>WALTER</td>\n",
              "      <td>9</td>\n",
              "    </tr>\n",
              "    <tr>\n",
              "      <th>196</th>\n",
              "      <td>ARLINDO</td>\n",
              "      <td>378</td>\n",
              "    </tr>\n",
              "    <tr>\n",
              "      <th>197</th>\n",
              "      <td>MICHAEL</td>\n",
              "      <td>50</td>\n",
              "    </tr>\n",
              "    <tr>\n",
              "      <th>198</th>\n",
              "      <td>ALVARO</td>\n",
              "      <td>244</td>\n",
              "    </tr>\n",
              "    <tr>\n",
              "      <th>199</th>\n",
              "      <td>GEOVANE</td>\n",
              "      <td>387</td>\n",
              "    </tr>\n",
              "  </tbody>\n",
              "</table>\n",
              "<p>400 rows × 2 columns</p>\n",
              "</div>"
            ],
            "text/plain": [
              "          nome  id_aluno\n",
              "0        MARIA       189\n",
              "1          ANA        58\n",
              "2    FRANCISCA       204\n",
              "3      ANTONIA       383\n",
              "4      ADRIANA       231\n",
              "..         ...       ...\n",
              "195     WALTER         9\n",
              "196    ARLINDO       378\n",
              "197    MICHAEL        50\n",
              "198     ALVARO       244\n",
              "199    GEOVANE       387\n",
              "\n",
              "[400 rows x 2 columns]"
            ]
          },
          "metadata": {
            "tags": []
          },
          "execution_count": 76
        }
      ]
    },
    {
      "cell_type": "code",
      "metadata": {
        "id": "zD7KcifUrNN-"
      },
      "source": [
        "dominios = ['@dominiodoemmail.com.br', '@servicodoemail.com']"
      ],
      "execution_count": 77,
      "outputs": []
    },
    {
      "cell_type": "code",
      "metadata": {
        "colab": {
          "base_uri": "https://localhost:8080/"
        },
        "id": "z9RPTtoL1Gzt",
        "outputId": "ae310405-5c54-4d81-e9bd-7751fa162a8a"
      },
      "source": [
        "dominios"
      ],
      "execution_count": 78,
      "outputs": [
        {
          "output_type": "execute_result",
          "data": {
            "text/plain": [
              "['@dominiodoemmail.com.br', '@servicodoemail.com']"
            ]
          },
          "metadata": {
            "tags": []
          },
          "execution_count": 78
        }
      ]
    },
    {
      "cell_type": "code",
      "metadata": {
        "id": "NN54bd501MgC"
      },
      "source": [
        "nomes ['dominio'] = np.random.choice(dominios,total_alunos)"
      ],
      "execution_count": 79,
      "outputs": []
    },
    {
      "cell_type": "code",
      "metadata": {
        "colab": {
          "base_uri": "https://localhost:8080/",
          "height": 419
        },
        "id": "kQjoyuZU1a1j",
        "outputId": "1f8098d0-8cab-4f91-8f01-15aa8a7bda9c"
      },
      "source": [
        "nomes"
      ],
      "execution_count": 80,
      "outputs": [
        {
          "output_type": "execute_result",
          "data": {
            "text/html": [
              "<div>\n",
              "<style scoped>\n",
              "    .dataframe tbody tr th:only-of-type {\n",
              "        vertical-align: middle;\n",
              "    }\n",
              "\n",
              "    .dataframe tbody tr th {\n",
              "        vertical-align: top;\n",
              "    }\n",
              "\n",
              "    .dataframe thead th {\n",
              "        text-align: right;\n",
              "    }\n",
              "</style>\n",
              "<table border=\"1\" class=\"dataframe\">\n",
              "  <thead>\n",
              "    <tr style=\"text-align: right;\">\n",
              "      <th></th>\n",
              "      <th>nome</th>\n",
              "      <th>id_aluno</th>\n",
              "      <th>dominio</th>\n",
              "    </tr>\n",
              "  </thead>\n",
              "  <tbody>\n",
              "    <tr>\n",
              "      <th>0</th>\n",
              "      <td>MARIA</td>\n",
              "      <td>189</td>\n",
              "      <td>@dominiodoemmail.com.br</td>\n",
              "    </tr>\n",
              "    <tr>\n",
              "      <th>1</th>\n",
              "      <td>ANA</td>\n",
              "      <td>58</td>\n",
              "      <td>@servicodoemail.com</td>\n",
              "    </tr>\n",
              "    <tr>\n",
              "      <th>2</th>\n",
              "      <td>FRANCISCA</td>\n",
              "      <td>204</td>\n",
              "      <td>@servicodoemail.com</td>\n",
              "    </tr>\n",
              "    <tr>\n",
              "      <th>3</th>\n",
              "      <td>ANTONIA</td>\n",
              "      <td>383</td>\n",
              "      <td>@dominiodoemmail.com.br</td>\n",
              "    </tr>\n",
              "    <tr>\n",
              "      <th>4</th>\n",
              "      <td>ADRIANA</td>\n",
              "      <td>231</td>\n",
              "      <td>@servicodoemail.com</td>\n",
              "    </tr>\n",
              "    <tr>\n",
              "      <th>...</th>\n",
              "      <td>...</td>\n",
              "      <td>...</td>\n",
              "      <td>...</td>\n",
              "    </tr>\n",
              "    <tr>\n",
              "      <th>195</th>\n",
              "      <td>WALTER</td>\n",
              "      <td>9</td>\n",
              "      <td>@dominiodoemmail.com.br</td>\n",
              "    </tr>\n",
              "    <tr>\n",
              "      <th>196</th>\n",
              "      <td>ARLINDO</td>\n",
              "      <td>378</td>\n",
              "      <td>@servicodoemail.com</td>\n",
              "    </tr>\n",
              "    <tr>\n",
              "      <th>197</th>\n",
              "      <td>MICHAEL</td>\n",
              "      <td>50</td>\n",
              "      <td>@dominiodoemmail.com.br</td>\n",
              "    </tr>\n",
              "    <tr>\n",
              "      <th>198</th>\n",
              "      <td>ALVARO</td>\n",
              "      <td>244</td>\n",
              "      <td>@dominiodoemmail.com.br</td>\n",
              "    </tr>\n",
              "    <tr>\n",
              "      <th>199</th>\n",
              "      <td>GEOVANE</td>\n",
              "      <td>387</td>\n",
              "      <td>@servicodoemail.com</td>\n",
              "    </tr>\n",
              "  </tbody>\n",
              "</table>\n",
              "<p>400 rows × 3 columns</p>\n",
              "</div>"
            ],
            "text/plain": [
              "          nome  id_aluno                  dominio\n",
              "0        MARIA       189  @dominiodoemmail.com.br\n",
              "1          ANA        58      @servicodoemail.com\n",
              "2    FRANCISCA       204      @servicodoemail.com\n",
              "3      ANTONIA       383  @dominiodoemmail.com.br\n",
              "4      ADRIANA       231      @servicodoemail.com\n",
              "..         ...       ...                      ...\n",
              "195     WALTER         9  @dominiodoemmail.com.br\n",
              "196    ARLINDO       378      @servicodoemail.com\n",
              "197    MICHAEL        50  @dominiodoemmail.com.br\n",
              "198     ALVARO       244  @dominiodoemmail.com.br\n",
              "199    GEOVANE       387      @servicodoemail.com\n",
              "\n",
              "[400 rows x 3 columns]"
            ]
          },
          "metadata": {
            "tags": []
          },
          "execution_count": 80
        }
      ]
    },
    {
      "cell_type": "code",
      "metadata": {
        "colab": {
          "base_uri": "https://localhost:8080/",
          "height": 419
        },
        "id": "CiJ2sSne1ba-",
        "outputId": "9f32646f-3892-4f48-c47a-42938ad51004"
      },
      "source": [
        "nomes['email'] = nomes.nome.str.cat(nomes.dominio).str.lower()\n",
        "nomes"
      ],
      "execution_count": 81,
      "outputs": [
        {
          "output_type": "execute_result",
          "data": {
            "text/html": [
              "<div>\n",
              "<style scoped>\n",
              "    .dataframe tbody tr th:only-of-type {\n",
              "        vertical-align: middle;\n",
              "    }\n",
              "\n",
              "    .dataframe tbody tr th {\n",
              "        vertical-align: top;\n",
              "    }\n",
              "\n",
              "    .dataframe thead th {\n",
              "        text-align: right;\n",
              "    }\n",
              "</style>\n",
              "<table border=\"1\" class=\"dataframe\">\n",
              "  <thead>\n",
              "    <tr style=\"text-align: right;\">\n",
              "      <th></th>\n",
              "      <th>nome</th>\n",
              "      <th>id_aluno</th>\n",
              "      <th>dominio</th>\n",
              "      <th>email</th>\n",
              "    </tr>\n",
              "  </thead>\n",
              "  <tbody>\n",
              "    <tr>\n",
              "      <th>0</th>\n",
              "      <td>MARIA</td>\n",
              "      <td>189</td>\n",
              "      <td>@dominiodoemmail.com.br</td>\n",
              "      <td>maria@dominiodoemmail.com.br</td>\n",
              "    </tr>\n",
              "    <tr>\n",
              "      <th>1</th>\n",
              "      <td>ANA</td>\n",
              "      <td>58</td>\n",
              "      <td>@servicodoemail.com</td>\n",
              "      <td>ana@servicodoemail.com</td>\n",
              "    </tr>\n",
              "    <tr>\n",
              "      <th>2</th>\n",
              "      <td>FRANCISCA</td>\n",
              "      <td>204</td>\n",
              "      <td>@servicodoemail.com</td>\n",
              "      <td>francisca@servicodoemail.com</td>\n",
              "    </tr>\n",
              "    <tr>\n",
              "      <th>3</th>\n",
              "      <td>ANTONIA</td>\n",
              "      <td>383</td>\n",
              "      <td>@dominiodoemmail.com.br</td>\n",
              "      <td>antonia@dominiodoemmail.com.br</td>\n",
              "    </tr>\n",
              "    <tr>\n",
              "      <th>4</th>\n",
              "      <td>ADRIANA</td>\n",
              "      <td>231</td>\n",
              "      <td>@servicodoemail.com</td>\n",
              "      <td>adriana@servicodoemail.com</td>\n",
              "    </tr>\n",
              "    <tr>\n",
              "      <th>...</th>\n",
              "      <td>...</td>\n",
              "      <td>...</td>\n",
              "      <td>...</td>\n",
              "      <td>...</td>\n",
              "    </tr>\n",
              "    <tr>\n",
              "      <th>195</th>\n",
              "      <td>WALTER</td>\n",
              "      <td>9</td>\n",
              "      <td>@dominiodoemmail.com.br</td>\n",
              "      <td>walter@dominiodoemmail.com.br</td>\n",
              "    </tr>\n",
              "    <tr>\n",
              "      <th>196</th>\n",
              "      <td>ARLINDO</td>\n",
              "      <td>378</td>\n",
              "      <td>@servicodoemail.com</td>\n",
              "      <td>arlindo@servicodoemail.com</td>\n",
              "    </tr>\n",
              "    <tr>\n",
              "      <th>197</th>\n",
              "      <td>MICHAEL</td>\n",
              "      <td>50</td>\n",
              "      <td>@dominiodoemmail.com.br</td>\n",
              "      <td>michael@dominiodoemmail.com.br</td>\n",
              "    </tr>\n",
              "    <tr>\n",
              "      <th>198</th>\n",
              "      <td>ALVARO</td>\n",
              "      <td>244</td>\n",
              "      <td>@dominiodoemmail.com.br</td>\n",
              "      <td>alvaro@dominiodoemmail.com.br</td>\n",
              "    </tr>\n",
              "    <tr>\n",
              "      <th>199</th>\n",
              "      <td>GEOVANE</td>\n",
              "      <td>387</td>\n",
              "      <td>@servicodoemail.com</td>\n",
              "      <td>geovane@servicodoemail.com</td>\n",
              "    </tr>\n",
              "  </tbody>\n",
              "</table>\n",
              "<p>400 rows × 4 columns</p>\n",
              "</div>"
            ],
            "text/plain": [
              "          nome  ...                           email\n",
              "0        MARIA  ...    maria@dominiodoemmail.com.br\n",
              "1          ANA  ...          ana@servicodoemail.com\n",
              "2    FRANCISCA  ...    francisca@servicodoemail.com\n",
              "3      ANTONIA  ...  antonia@dominiodoemmail.com.br\n",
              "4      ADRIANA  ...      adriana@servicodoemail.com\n",
              "..         ...  ...                             ...\n",
              "195     WALTER  ...   walter@dominiodoemmail.com.br\n",
              "196    ARLINDO  ...      arlindo@servicodoemail.com\n",
              "197    MICHAEL  ...  michael@dominiodoemmail.com.br\n",
              "198     ALVARO  ...   alvaro@dominiodoemmail.com.br\n",
              "199    GEOVANE  ...      geovane@servicodoemail.com\n",
              "\n",
              "[400 rows x 4 columns]"
            ]
          },
          "metadata": {
            "tags": []
          },
          "execution_count": 81
        }
      ]
    },
    {
      "cell_type": "code",
      "metadata": {
        "colab": {
          "base_uri": "https://localhost:8080/",
          "height": 359
        },
        "id": "bpzG04wW1v35",
        "outputId": "6f7208d4-4737-4301-ac2f-b71143fbec7c"
      },
      "source": [
        "nomes.head(10)"
      ],
      "execution_count": 82,
      "outputs": [
        {
          "output_type": "execute_result",
          "data": {
            "text/html": [
              "<div>\n",
              "<style scoped>\n",
              "    .dataframe tbody tr th:only-of-type {\n",
              "        vertical-align: middle;\n",
              "    }\n",
              "\n",
              "    .dataframe tbody tr th {\n",
              "        vertical-align: top;\n",
              "    }\n",
              "\n",
              "    .dataframe thead th {\n",
              "        text-align: right;\n",
              "    }\n",
              "</style>\n",
              "<table border=\"1\" class=\"dataframe\">\n",
              "  <thead>\n",
              "    <tr style=\"text-align: right;\">\n",
              "      <th></th>\n",
              "      <th>nome</th>\n",
              "      <th>id_aluno</th>\n",
              "      <th>dominio</th>\n",
              "      <th>email</th>\n",
              "    </tr>\n",
              "  </thead>\n",
              "  <tbody>\n",
              "    <tr>\n",
              "      <th>0</th>\n",
              "      <td>MARIA</td>\n",
              "      <td>189</td>\n",
              "      <td>@dominiodoemmail.com.br</td>\n",
              "      <td>maria@dominiodoemmail.com.br</td>\n",
              "    </tr>\n",
              "    <tr>\n",
              "      <th>1</th>\n",
              "      <td>ANA</td>\n",
              "      <td>58</td>\n",
              "      <td>@servicodoemail.com</td>\n",
              "      <td>ana@servicodoemail.com</td>\n",
              "    </tr>\n",
              "    <tr>\n",
              "      <th>2</th>\n",
              "      <td>FRANCISCA</td>\n",
              "      <td>204</td>\n",
              "      <td>@servicodoemail.com</td>\n",
              "      <td>francisca@servicodoemail.com</td>\n",
              "    </tr>\n",
              "    <tr>\n",
              "      <th>3</th>\n",
              "      <td>ANTONIA</td>\n",
              "      <td>383</td>\n",
              "      <td>@dominiodoemmail.com.br</td>\n",
              "      <td>antonia@dominiodoemmail.com.br</td>\n",
              "    </tr>\n",
              "    <tr>\n",
              "      <th>4</th>\n",
              "      <td>ADRIANA</td>\n",
              "      <td>231</td>\n",
              "      <td>@servicodoemail.com</td>\n",
              "      <td>adriana@servicodoemail.com</td>\n",
              "    </tr>\n",
              "    <tr>\n",
              "      <th>5</th>\n",
              "      <td>JULIANA</td>\n",
              "      <td>285</td>\n",
              "      <td>@servicodoemail.com</td>\n",
              "      <td>juliana@servicodoemail.com</td>\n",
              "    </tr>\n",
              "    <tr>\n",
              "      <th>6</th>\n",
              "      <td>MARCIA</td>\n",
              "      <td>105</td>\n",
              "      <td>@dominiodoemmail.com.br</td>\n",
              "      <td>marcia@dominiodoemmail.com.br</td>\n",
              "    </tr>\n",
              "    <tr>\n",
              "      <th>7</th>\n",
              "      <td>FERNANDA</td>\n",
              "      <td>237</td>\n",
              "      <td>@servicodoemail.com</td>\n",
              "      <td>fernanda@servicodoemail.com</td>\n",
              "    </tr>\n",
              "    <tr>\n",
              "      <th>8</th>\n",
              "      <td>PATRICIA</td>\n",
              "      <td>5</td>\n",
              "      <td>@servicodoemail.com</td>\n",
              "      <td>patricia@servicodoemail.com</td>\n",
              "    </tr>\n",
              "    <tr>\n",
              "      <th>9</th>\n",
              "      <td>ALINE</td>\n",
              "      <td>268</td>\n",
              "      <td>@dominiodoemmail.com.br</td>\n",
              "      <td>aline@dominiodoemmail.com.br</td>\n",
              "    </tr>\n",
              "  </tbody>\n",
              "</table>\n",
              "</div>"
            ],
            "text/plain": [
              "        nome  id_aluno                  dominio                           email\n",
              "0      MARIA       189  @dominiodoemmail.com.br    maria@dominiodoemmail.com.br\n",
              "1        ANA        58      @servicodoemail.com          ana@servicodoemail.com\n",
              "2  FRANCISCA       204      @servicodoemail.com    francisca@servicodoemail.com\n",
              "3    ANTONIA       383  @dominiodoemmail.com.br  antonia@dominiodoemmail.com.br\n",
              "4    ADRIANA       231      @servicodoemail.com      adriana@servicodoemail.com\n",
              "5    JULIANA       285      @servicodoemail.com      juliana@servicodoemail.com\n",
              "6     MARCIA       105  @dominiodoemmail.com.br   marcia@dominiodoemmail.com.br\n",
              "7   FERNANDA       237      @servicodoemail.com     fernanda@servicodoemail.com\n",
              "8   PATRICIA         5      @servicodoemail.com     patricia@servicodoemail.com\n",
              "9      ALINE       268  @dominiodoemmail.com.br    aline@dominiodoemmail.com.br"
            ]
          },
          "metadata": {
            "tags": []
          },
          "execution_count": 82
        }
      ]
    },
    {
      "cell_type": "markdown",
      "metadata": {
        "id": "zG2iYJ163ypi"
      },
      "source": [
        "# Criando a tabela Cursos"
      ]
    },
    {
      "cell_type": "code",
      "metadata": {
        "colab": {
          "base_uri": "https://localhost:8080/"
        },
        "id": "P5OtIcOe1yQ3",
        "outputId": "fc9fbf5b-67dc-444d-f376-130b9473ed52"
      },
      "source": [
        "!pip3 install html5lib\n",
        "!pip3 install lxml"
      ],
      "execution_count": 83,
      "outputs": [
        {
          "output_type": "stream",
          "text": [
            "Requirement already satisfied: html5lib in /usr/local/lib/python3.7/dist-packages (1.0.1)\n",
            "Requirement already satisfied: six>=1.9 in /usr/local/lib/python3.7/dist-packages (from html5lib) (1.15.0)\n",
            "Requirement already satisfied: webencodings in /usr/local/lib/python3.7/dist-packages (from html5lib) (0.5.1)\n",
            "Requirement already satisfied: lxml in /usr/local/lib/python3.7/dist-packages (4.2.6)\n"
          ],
          "name": "stdout"
        }
      ]
    },
    {
      "cell_type": "code",
      "metadata": {
        "id": "CyCksDsj2Ar7"
      },
      "source": [
        "import html5lib"
      ],
      "execution_count": 84,
      "outputs": []
    },
    {
      "cell_type": "code",
      "metadata": {
        "colab": {
          "base_uri": "https://localhost:8080/"
        },
        "id": "RTRHlxhO4aeD",
        "outputId": "bca6ed83-0980-4b1f-daca-da9aeb7c697a"
      },
      "source": [
        "url = 'http://tabela-cursos.herokuapp.com/index.html'\n",
        "pd.read_html(url)"
      ],
      "execution_count": 85,
      "outputs": [
        {
          "output_type": "execute_result",
          "data": {
            "text/plain": [
              "[                          Nome do curso\n",
              " 0                 Lógica de programação\n",
              " 1                         Java para Web\n",
              " 2                           C# para Web\n",
              " 3                         Ruby on Rails\n",
              " 4                      Cursos de Python\n",
              " 5                         PHP com MySql\n",
              " 6                         .NET para web\n",
              " 7            Novas integrações com Java\n",
              " 8                          TDD com Java\n",
              " 9                   Código limpo com C#\n",
              " 10  Preparatório para certificação Java\n",
              " 11                      Hardware básico\n",
              " 12                Persistência com .NET\n",
              " 13                  Desenvolvendo jogos\n",
              " 14                     Análise de dados\n",
              " 15                   Estatística básica\n",
              " 16                  Internet das coisas\n",
              " 17                Programação funcional\n",
              " 18                Boas práticas em Java\n",
              " 19          Orientação objetos com Java]"
            ]
          },
          "metadata": {
            "tags": []
          },
          "execution_count": 85
        }
      ]
    },
    {
      "cell_type": "code",
      "metadata": {
        "id": "BsFTZOms4kgy"
      },
      "source": [
        "cursos = pd.read_html(url)"
      ],
      "execution_count": 86,
      "outputs": []
    },
    {
      "cell_type": "code",
      "metadata": {
        "colab": {
          "base_uri": "https://localhost:8080/"
        },
        "id": "Kf7U2oGe4saV",
        "outputId": "e783859b-6897-43f3-e5d0-b9e4c9535aba"
      },
      "source": [
        "cursos"
      ],
      "execution_count": 87,
      "outputs": [
        {
          "output_type": "execute_result",
          "data": {
            "text/plain": [
              "[                          Nome do curso\n",
              " 0                 Lógica de programação\n",
              " 1                         Java para Web\n",
              " 2                           C# para Web\n",
              " 3                         Ruby on Rails\n",
              " 4                      Cursos de Python\n",
              " 5                         PHP com MySql\n",
              " 6                         .NET para web\n",
              " 7            Novas integrações com Java\n",
              " 8                          TDD com Java\n",
              " 9                   Código limpo com C#\n",
              " 10  Preparatório para certificação Java\n",
              " 11                      Hardware básico\n",
              " 12                Persistência com .NET\n",
              " 13                  Desenvolvendo jogos\n",
              " 14                     Análise de dados\n",
              " 15                   Estatística básica\n",
              " 16                  Internet das coisas\n",
              " 17                Programação funcional\n",
              " 18                Boas práticas em Java\n",
              " 19          Orientação objetos com Java]"
            ]
          },
          "metadata": {
            "tags": []
          },
          "execution_count": 87
        }
      ]
    },
    {
      "cell_type": "code",
      "metadata": {
        "colab": {
          "base_uri": "https://localhost:8080/"
        },
        "id": "QljCPHFY4tOg",
        "outputId": "fb77baf2-fd17-4428-883a-6124b94f1b9d"
      },
      "source": [
        "type(cursos)"
      ],
      "execution_count": 88,
      "outputs": [
        {
          "output_type": "execute_result",
          "data": {
            "text/plain": [
              "list"
            ]
          },
          "metadata": {
            "tags": []
          },
          "execution_count": 88
        }
      ]
    },
    {
      "cell_type": "code",
      "metadata": {
        "colab": {
          "base_uri": "https://localhost:8080/",
          "height": 0
        },
        "id": "lm4LnBAG4vM-",
        "outputId": "40e8564f-cf7e-4a69-dde3-1b8a0b40cc9c"
      },
      "source": [
        "cursos[0]"
      ],
      "execution_count": 89,
      "outputs": [
        {
          "output_type": "execute_result",
          "data": {
            "text/html": [
              "<div>\n",
              "<style scoped>\n",
              "    .dataframe tbody tr th:only-of-type {\n",
              "        vertical-align: middle;\n",
              "    }\n",
              "\n",
              "    .dataframe tbody tr th {\n",
              "        vertical-align: top;\n",
              "    }\n",
              "\n",
              "    .dataframe thead th {\n",
              "        text-align: right;\n",
              "    }\n",
              "</style>\n",
              "<table border=\"1\" class=\"dataframe\">\n",
              "  <thead>\n",
              "    <tr style=\"text-align: right;\">\n",
              "      <th></th>\n",
              "      <th>Nome do curso</th>\n",
              "    </tr>\n",
              "  </thead>\n",
              "  <tbody>\n",
              "    <tr>\n",
              "      <th>0</th>\n",
              "      <td>Lógica de programação</td>\n",
              "    </tr>\n",
              "    <tr>\n",
              "      <th>1</th>\n",
              "      <td>Java para Web</td>\n",
              "    </tr>\n",
              "    <tr>\n",
              "      <th>2</th>\n",
              "      <td>C# para Web</td>\n",
              "    </tr>\n",
              "    <tr>\n",
              "      <th>3</th>\n",
              "      <td>Ruby on Rails</td>\n",
              "    </tr>\n",
              "    <tr>\n",
              "      <th>4</th>\n",
              "      <td>Cursos de Python</td>\n",
              "    </tr>\n",
              "    <tr>\n",
              "      <th>5</th>\n",
              "      <td>PHP com MySql</td>\n",
              "    </tr>\n",
              "    <tr>\n",
              "      <th>6</th>\n",
              "      <td>.NET para web</td>\n",
              "    </tr>\n",
              "    <tr>\n",
              "      <th>7</th>\n",
              "      <td>Novas integrações com Java</td>\n",
              "    </tr>\n",
              "    <tr>\n",
              "      <th>8</th>\n",
              "      <td>TDD com Java</td>\n",
              "    </tr>\n",
              "    <tr>\n",
              "      <th>9</th>\n",
              "      <td>Código limpo com C#</td>\n",
              "    </tr>\n",
              "    <tr>\n",
              "      <th>10</th>\n",
              "      <td>Preparatório para certificação Java</td>\n",
              "    </tr>\n",
              "    <tr>\n",
              "      <th>11</th>\n",
              "      <td>Hardware básico</td>\n",
              "    </tr>\n",
              "    <tr>\n",
              "      <th>12</th>\n",
              "      <td>Persistência com .NET</td>\n",
              "    </tr>\n",
              "    <tr>\n",
              "      <th>13</th>\n",
              "      <td>Desenvolvendo jogos</td>\n",
              "    </tr>\n",
              "    <tr>\n",
              "      <th>14</th>\n",
              "      <td>Análise de dados</td>\n",
              "    </tr>\n",
              "    <tr>\n",
              "      <th>15</th>\n",
              "      <td>Estatística básica</td>\n",
              "    </tr>\n",
              "    <tr>\n",
              "      <th>16</th>\n",
              "      <td>Internet das coisas</td>\n",
              "    </tr>\n",
              "    <tr>\n",
              "      <th>17</th>\n",
              "      <td>Programação funcional</td>\n",
              "    </tr>\n",
              "    <tr>\n",
              "      <th>18</th>\n",
              "      <td>Boas práticas em Java</td>\n",
              "    </tr>\n",
              "    <tr>\n",
              "      <th>19</th>\n",
              "      <td>Orientação objetos com Java</td>\n",
              "    </tr>\n",
              "  </tbody>\n",
              "</table>\n",
              "</div>"
            ],
            "text/plain": [
              "                          Nome do curso\n",
              "0                 Lógica de programação\n",
              "1                         Java para Web\n",
              "2                           C# para Web\n",
              "3                         Ruby on Rails\n",
              "4                      Cursos de Python\n",
              "5                         PHP com MySql\n",
              "6                         .NET para web\n",
              "7            Novas integrações com Java\n",
              "8                          TDD com Java\n",
              "9                   Código limpo com C#\n",
              "10  Preparatório para certificação Java\n",
              "11                      Hardware básico\n",
              "12                Persistência com .NET\n",
              "13                  Desenvolvendo jogos\n",
              "14                     Análise de dados\n",
              "15                   Estatística básica\n",
              "16                  Internet das coisas\n",
              "17                Programação funcional\n",
              "18                Boas práticas em Java\n",
              "19          Orientação objetos com Java"
            ]
          },
          "metadata": {
            "tags": []
          },
          "execution_count": 89
        }
      ]
    },
    {
      "cell_type": "code",
      "metadata": {
        "colab": {
          "base_uri": "https://localhost:8080/"
        },
        "id": "inK5eyGx4z8u",
        "outputId": "8c9108e1-e97a-4e30-9e93-2f04228c84f6"
      },
      "source": [
        "cursos = cursos[0]\n",
        "type(cursos)"
      ],
      "execution_count": 90,
      "outputs": [
        {
          "output_type": "execute_result",
          "data": {
            "text/plain": [
              "pandas.core.frame.DataFrame"
            ]
          },
          "metadata": {
            "tags": []
          },
          "execution_count": 90
        }
      ]
    },
    {
      "cell_type": "code",
      "metadata": {
        "colab": {
          "base_uri": "https://localhost:8080/",
          "height": 0
        },
        "id": "C50WTGVq44y_",
        "outputId": "95e48be8-9395-4c0c-9c3f-39627c913327"
      },
      "source": [
        "cursos.head(5)"
      ],
      "execution_count": 91,
      "outputs": [
        {
          "output_type": "execute_result",
          "data": {
            "text/html": [
              "<div>\n",
              "<style scoped>\n",
              "    .dataframe tbody tr th:only-of-type {\n",
              "        vertical-align: middle;\n",
              "    }\n",
              "\n",
              "    .dataframe tbody tr th {\n",
              "        vertical-align: top;\n",
              "    }\n",
              "\n",
              "    .dataframe thead th {\n",
              "        text-align: right;\n",
              "    }\n",
              "</style>\n",
              "<table border=\"1\" class=\"dataframe\">\n",
              "  <thead>\n",
              "    <tr style=\"text-align: right;\">\n",
              "      <th></th>\n",
              "      <th>Nome do curso</th>\n",
              "    </tr>\n",
              "  </thead>\n",
              "  <tbody>\n",
              "    <tr>\n",
              "      <th>0</th>\n",
              "      <td>Lógica de programação</td>\n",
              "    </tr>\n",
              "    <tr>\n",
              "      <th>1</th>\n",
              "      <td>Java para Web</td>\n",
              "    </tr>\n",
              "    <tr>\n",
              "      <th>2</th>\n",
              "      <td>C# para Web</td>\n",
              "    </tr>\n",
              "    <tr>\n",
              "      <th>3</th>\n",
              "      <td>Ruby on Rails</td>\n",
              "    </tr>\n",
              "    <tr>\n",
              "      <th>4</th>\n",
              "      <td>Cursos de Python</td>\n",
              "    </tr>\n",
              "  </tbody>\n",
              "</table>\n",
              "</div>"
            ],
            "text/plain": [
              "           Nome do curso\n",
              "0  Lógica de programação\n",
              "1          Java para Web\n",
              "2            C# para Web\n",
              "3          Ruby on Rails\n",
              "4       Cursos de Python"
            ]
          },
          "metadata": {
            "tags": []
          },
          "execution_count": 91
        }
      ]
    },
    {
      "cell_type": "markdown",
      "metadata": {
        "id": "AD_e3Kda5eCX"
      },
      "source": [
        "# alterando o index de cursos"
      ]
    },
    {
      "cell_type": "code",
      "metadata": {
        "id": "WZokGVBI466y"
      },
      "source": [
        "cursos = cursos.rename(columns={'Nome do curso' : 'Nome_do_curso'})"
      ],
      "execution_count": 92,
      "outputs": []
    },
    {
      "cell_type": "code",
      "metadata": {
        "colab": {
          "base_uri": "https://localhost:8080/",
          "height": 0
        },
        "id": "IPh_4E_y5x_w",
        "outputId": "97ab4439-33d1-4ed1-857b-259d5b2f6384"
      },
      "source": [
        "cursos.head()"
      ],
      "execution_count": 93,
      "outputs": [
        {
          "output_type": "execute_result",
          "data": {
            "text/html": [
              "<div>\n",
              "<style scoped>\n",
              "    .dataframe tbody tr th:only-of-type {\n",
              "        vertical-align: middle;\n",
              "    }\n",
              "\n",
              "    .dataframe tbody tr th {\n",
              "        vertical-align: top;\n",
              "    }\n",
              "\n",
              "    .dataframe thead th {\n",
              "        text-align: right;\n",
              "    }\n",
              "</style>\n",
              "<table border=\"1\" class=\"dataframe\">\n",
              "  <thead>\n",
              "    <tr style=\"text-align: right;\">\n",
              "      <th></th>\n",
              "      <th>Nome_do_curso</th>\n",
              "    </tr>\n",
              "  </thead>\n",
              "  <tbody>\n",
              "    <tr>\n",
              "      <th>0</th>\n",
              "      <td>Lógica de programação</td>\n",
              "    </tr>\n",
              "    <tr>\n",
              "      <th>1</th>\n",
              "      <td>Java para Web</td>\n",
              "    </tr>\n",
              "    <tr>\n",
              "      <th>2</th>\n",
              "      <td>C# para Web</td>\n",
              "    </tr>\n",
              "    <tr>\n",
              "      <th>3</th>\n",
              "      <td>Ruby on Rails</td>\n",
              "    </tr>\n",
              "    <tr>\n",
              "      <th>4</th>\n",
              "      <td>Cursos de Python</td>\n",
              "    </tr>\n",
              "  </tbody>\n",
              "</table>\n",
              "</div>"
            ],
            "text/plain": [
              "           Nome_do_curso\n",
              "0  Lógica de programação\n",
              "1          Java para Web\n",
              "2            C# para Web\n",
              "3          Ruby on Rails\n",
              "4       Cursos de Python"
            ]
          },
          "metadata": {
            "tags": []
          },
          "execution_count": 93
        }
      ]
    },
    {
      "cell_type": "code",
      "metadata": {
        "id": "LjJxcEg759W4"
      },
      "source": [
        "cursos['id'] = cursos.index +1"
      ],
      "execution_count": 94,
      "outputs": []
    },
    {
      "cell_type": "code",
      "metadata": {
        "colab": {
          "base_uri": "https://localhost:8080/",
          "height": 0
        },
        "id": "OpZ7TAog6GlB",
        "outputId": "8ed84bf9-b7c3-4ac2-9d19-2a91470ebaf8"
      },
      "source": [
        "cursos"
      ],
      "execution_count": 95,
      "outputs": [
        {
          "output_type": "execute_result",
          "data": {
            "text/html": [
              "<div>\n",
              "<style scoped>\n",
              "    .dataframe tbody tr th:only-of-type {\n",
              "        vertical-align: middle;\n",
              "    }\n",
              "\n",
              "    .dataframe tbody tr th {\n",
              "        vertical-align: top;\n",
              "    }\n",
              "\n",
              "    .dataframe thead th {\n",
              "        text-align: right;\n",
              "    }\n",
              "</style>\n",
              "<table border=\"1\" class=\"dataframe\">\n",
              "  <thead>\n",
              "    <tr style=\"text-align: right;\">\n",
              "      <th></th>\n",
              "      <th>Nome_do_curso</th>\n",
              "      <th>id</th>\n",
              "    </tr>\n",
              "  </thead>\n",
              "  <tbody>\n",
              "    <tr>\n",
              "      <th>0</th>\n",
              "      <td>Lógica de programação</td>\n",
              "      <td>1</td>\n",
              "    </tr>\n",
              "    <tr>\n",
              "      <th>1</th>\n",
              "      <td>Java para Web</td>\n",
              "      <td>2</td>\n",
              "    </tr>\n",
              "    <tr>\n",
              "      <th>2</th>\n",
              "      <td>C# para Web</td>\n",
              "      <td>3</td>\n",
              "    </tr>\n",
              "    <tr>\n",
              "      <th>3</th>\n",
              "      <td>Ruby on Rails</td>\n",
              "      <td>4</td>\n",
              "    </tr>\n",
              "    <tr>\n",
              "      <th>4</th>\n",
              "      <td>Cursos de Python</td>\n",
              "      <td>5</td>\n",
              "    </tr>\n",
              "    <tr>\n",
              "      <th>5</th>\n",
              "      <td>PHP com MySql</td>\n",
              "      <td>6</td>\n",
              "    </tr>\n",
              "    <tr>\n",
              "      <th>6</th>\n",
              "      <td>.NET para web</td>\n",
              "      <td>7</td>\n",
              "    </tr>\n",
              "    <tr>\n",
              "      <th>7</th>\n",
              "      <td>Novas integrações com Java</td>\n",
              "      <td>8</td>\n",
              "    </tr>\n",
              "    <tr>\n",
              "      <th>8</th>\n",
              "      <td>TDD com Java</td>\n",
              "      <td>9</td>\n",
              "    </tr>\n",
              "    <tr>\n",
              "      <th>9</th>\n",
              "      <td>Código limpo com C#</td>\n",
              "      <td>10</td>\n",
              "    </tr>\n",
              "    <tr>\n",
              "      <th>10</th>\n",
              "      <td>Preparatório para certificação Java</td>\n",
              "      <td>11</td>\n",
              "    </tr>\n",
              "    <tr>\n",
              "      <th>11</th>\n",
              "      <td>Hardware básico</td>\n",
              "      <td>12</td>\n",
              "    </tr>\n",
              "    <tr>\n",
              "      <th>12</th>\n",
              "      <td>Persistência com .NET</td>\n",
              "      <td>13</td>\n",
              "    </tr>\n",
              "    <tr>\n",
              "      <th>13</th>\n",
              "      <td>Desenvolvendo jogos</td>\n",
              "      <td>14</td>\n",
              "    </tr>\n",
              "    <tr>\n",
              "      <th>14</th>\n",
              "      <td>Análise de dados</td>\n",
              "      <td>15</td>\n",
              "    </tr>\n",
              "    <tr>\n",
              "      <th>15</th>\n",
              "      <td>Estatística básica</td>\n",
              "      <td>16</td>\n",
              "    </tr>\n",
              "    <tr>\n",
              "      <th>16</th>\n",
              "      <td>Internet das coisas</td>\n",
              "      <td>17</td>\n",
              "    </tr>\n",
              "    <tr>\n",
              "      <th>17</th>\n",
              "      <td>Programação funcional</td>\n",
              "      <td>18</td>\n",
              "    </tr>\n",
              "    <tr>\n",
              "      <th>18</th>\n",
              "      <td>Boas práticas em Java</td>\n",
              "      <td>19</td>\n",
              "    </tr>\n",
              "    <tr>\n",
              "      <th>19</th>\n",
              "      <td>Orientação objetos com Java</td>\n",
              "      <td>20</td>\n",
              "    </tr>\n",
              "  </tbody>\n",
              "</table>\n",
              "</div>"
            ],
            "text/plain": [
              "                          Nome_do_curso  id\n",
              "0                 Lógica de programação   1\n",
              "1                         Java para Web   2\n",
              "2                           C# para Web   3\n",
              "3                         Ruby on Rails   4\n",
              "4                      Cursos de Python   5\n",
              "5                         PHP com MySql   6\n",
              "6                         .NET para web   7\n",
              "7            Novas integrações com Java   8\n",
              "8                          TDD com Java   9\n",
              "9                   Código limpo com C#  10\n",
              "10  Preparatório para certificação Java  11\n",
              "11                      Hardware básico  12\n",
              "12                Persistência com .NET  13\n",
              "13                  Desenvolvendo jogos  14\n",
              "14                     Análise de dados  15\n",
              "15                   Estatística básica  16\n",
              "16                  Internet das coisas  17\n",
              "17                Programação funcional  18\n",
              "18                Boas práticas em Java  19\n",
              "19          Orientação objetos com Java  20"
            ]
          },
          "metadata": {
            "tags": []
          },
          "execution_count": 95
        }
      ]
    },
    {
      "cell_type": "code",
      "metadata": {
        "id": "4yH3ujyK6Hfc"
      },
      "source": [
        "cursos = cursos.set_index('id')"
      ],
      "execution_count": 96,
      "outputs": []
    },
    {
      "cell_type": "code",
      "metadata": {
        "colab": {
          "base_uri": "https://localhost:8080/",
          "height": 0
        },
        "id": "9yt31MhM6U2W",
        "outputId": "b2a51580-8f4f-467e-f805-337bd124c990"
      },
      "source": [
        "cursos"
      ],
      "execution_count": 97,
      "outputs": [
        {
          "output_type": "execute_result",
          "data": {
            "text/html": [
              "<div>\n",
              "<style scoped>\n",
              "    .dataframe tbody tr th:only-of-type {\n",
              "        vertical-align: middle;\n",
              "    }\n",
              "\n",
              "    .dataframe tbody tr th {\n",
              "        vertical-align: top;\n",
              "    }\n",
              "\n",
              "    .dataframe thead th {\n",
              "        text-align: right;\n",
              "    }\n",
              "</style>\n",
              "<table border=\"1\" class=\"dataframe\">\n",
              "  <thead>\n",
              "    <tr style=\"text-align: right;\">\n",
              "      <th></th>\n",
              "      <th>Nome_do_curso</th>\n",
              "    </tr>\n",
              "    <tr>\n",
              "      <th>id</th>\n",
              "      <th></th>\n",
              "    </tr>\n",
              "  </thead>\n",
              "  <tbody>\n",
              "    <tr>\n",
              "      <th>1</th>\n",
              "      <td>Lógica de programação</td>\n",
              "    </tr>\n",
              "    <tr>\n",
              "      <th>2</th>\n",
              "      <td>Java para Web</td>\n",
              "    </tr>\n",
              "    <tr>\n",
              "      <th>3</th>\n",
              "      <td>C# para Web</td>\n",
              "    </tr>\n",
              "    <tr>\n",
              "      <th>4</th>\n",
              "      <td>Ruby on Rails</td>\n",
              "    </tr>\n",
              "    <tr>\n",
              "      <th>5</th>\n",
              "      <td>Cursos de Python</td>\n",
              "    </tr>\n",
              "    <tr>\n",
              "      <th>6</th>\n",
              "      <td>PHP com MySql</td>\n",
              "    </tr>\n",
              "    <tr>\n",
              "      <th>7</th>\n",
              "      <td>.NET para web</td>\n",
              "    </tr>\n",
              "    <tr>\n",
              "      <th>8</th>\n",
              "      <td>Novas integrações com Java</td>\n",
              "    </tr>\n",
              "    <tr>\n",
              "      <th>9</th>\n",
              "      <td>TDD com Java</td>\n",
              "    </tr>\n",
              "    <tr>\n",
              "      <th>10</th>\n",
              "      <td>Código limpo com C#</td>\n",
              "    </tr>\n",
              "    <tr>\n",
              "      <th>11</th>\n",
              "      <td>Preparatório para certificação Java</td>\n",
              "    </tr>\n",
              "    <tr>\n",
              "      <th>12</th>\n",
              "      <td>Hardware básico</td>\n",
              "    </tr>\n",
              "    <tr>\n",
              "      <th>13</th>\n",
              "      <td>Persistência com .NET</td>\n",
              "    </tr>\n",
              "    <tr>\n",
              "      <th>14</th>\n",
              "      <td>Desenvolvendo jogos</td>\n",
              "    </tr>\n",
              "    <tr>\n",
              "      <th>15</th>\n",
              "      <td>Análise de dados</td>\n",
              "    </tr>\n",
              "    <tr>\n",
              "      <th>16</th>\n",
              "      <td>Estatística básica</td>\n",
              "    </tr>\n",
              "    <tr>\n",
              "      <th>17</th>\n",
              "      <td>Internet das coisas</td>\n",
              "    </tr>\n",
              "    <tr>\n",
              "      <th>18</th>\n",
              "      <td>Programação funcional</td>\n",
              "    </tr>\n",
              "    <tr>\n",
              "      <th>19</th>\n",
              "      <td>Boas práticas em Java</td>\n",
              "    </tr>\n",
              "    <tr>\n",
              "      <th>20</th>\n",
              "      <td>Orientação objetos com Java</td>\n",
              "    </tr>\n",
              "  </tbody>\n",
              "</table>\n",
              "</div>"
            ],
            "text/plain": [
              "                          Nome_do_curso\n",
              "id                                     \n",
              "1                 Lógica de programação\n",
              "2                         Java para Web\n",
              "3                           C# para Web\n",
              "4                         Ruby on Rails\n",
              "5                      Cursos de Python\n",
              "6                         PHP com MySql\n",
              "7                         .NET para web\n",
              "8            Novas integrações com Java\n",
              "9                          TDD com Java\n",
              "10                  Código limpo com C#\n",
              "11  Preparatório para certificação Java\n",
              "12                      Hardware básico\n",
              "13                Persistência com .NET\n",
              "14                  Desenvolvendo jogos\n",
              "15                     Análise de dados\n",
              "16                   Estatística básica\n",
              "17                  Internet das coisas\n",
              "18                Programação funcional\n",
              "19                Boas práticas em Java\n",
              "20          Orientação objetos com Java"
            ]
          },
          "metadata": {
            "tags": []
          },
          "execution_count": 97
        }
      ]
    },
    {
      "cell_type": "markdown",
      "metadata": {
        "id": "T-ywMnr_Ab2u"
      },
      "source": [
        "# matriculando os alunos nos cusrsos"
      ]
    },
    {
      "cell_type": "code",
      "metadata": {
        "id": "MMuyvhMi6Vga"
      },
      "source": [
        "nomes['matriculas'] = np.ceil(np.random.exponential(size = total_alunos)*1.5).astype(int)"
      ],
      "execution_count": 98,
      "outputs": []
    },
    {
      "cell_type": "code",
      "metadata": {
        "colab": {
          "base_uri": "https://localhost:8080/",
          "height": 0
        },
        "id": "GtFD0wPwA46D",
        "outputId": "0575a416-f143-4518-a21d-1f4e2638501e"
      },
      "source": [
        "nomes"
      ],
      "execution_count": 99,
      "outputs": [
        {
          "output_type": "execute_result",
          "data": {
            "text/html": [
              "<div>\n",
              "<style scoped>\n",
              "    .dataframe tbody tr th:only-of-type {\n",
              "        vertical-align: middle;\n",
              "    }\n",
              "\n",
              "    .dataframe tbody tr th {\n",
              "        vertical-align: top;\n",
              "    }\n",
              "\n",
              "    .dataframe thead th {\n",
              "        text-align: right;\n",
              "    }\n",
              "</style>\n",
              "<table border=\"1\" class=\"dataframe\">\n",
              "  <thead>\n",
              "    <tr style=\"text-align: right;\">\n",
              "      <th></th>\n",
              "      <th>nome</th>\n",
              "      <th>id_aluno</th>\n",
              "      <th>dominio</th>\n",
              "      <th>email</th>\n",
              "      <th>matriculas</th>\n",
              "    </tr>\n",
              "  </thead>\n",
              "  <tbody>\n",
              "    <tr>\n",
              "      <th>0</th>\n",
              "      <td>MARIA</td>\n",
              "      <td>189</td>\n",
              "      <td>@dominiodoemmail.com.br</td>\n",
              "      <td>maria@dominiodoemmail.com.br</td>\n",
              "      <td>1</td>\n",
              "    </tr>\n",
              "    <tr>\n",
              "      <th>1</th>\n",
              "      <td>ANA</td>\n",
              "      <td>58</td>\n",
              "      <td>@servicodoemail.com</td>\n",
              "      <td>ana@servicodoemail.com</td>\n",
              "      <td>5</td>\n",
              "    </tr>\n",
              "    <tr>\n",
              "      <th>2</th>\n",
              "      <td>FRANCISCA</td>\n",
              "      <td>204</td>\n",
              "      <td>@servicodoemail.com</td>\n",
              "      <td>francisca@servicodoemail.com</td>\n",
              "      <td>1</td>\n",
              "    </tr>\n",
              "    <tr>\n",
              "      <th>3</th>\n",
              "      <td>ANTONIA</td>\n",
              "      <td>383</td>\n",
              "      <td>@dominiodoemmail.com.br</td>\n",
              "      <td>antonia@dominiodoemmail.com.br</td>\n",
              "      <td>5</td>\n",
              "    </tr>\n",
              "    <tr>\n",
              "      <th>4</th>\n",
              "      <td>ADRIANA</td>\n",
              "      <td>231</td>\n",
              "      <td>@servicodoemail.com</td>\n",
              "      <td>adriana@servicodoemail.com</td>\n",
              "      <td>1</td>\n",
              "    </tr>\n",
              "    <tr>\n",
              "      <th>...</th>\n",
              "      <td>...</td>\n",
              "      <td>...</td>\n",
              "      <td>...</td>\n",
              "      <td>...</td>\n",
              "      <td>...</td>\n",
              "    </tr>\n",
              "    <tr>\n",
              "      <th>195</th>\n",
              "      <td>WALTER</td>\n",
              "      <td>9</td>\n",
              "      <td>@dominiodoemmail.com.br</td>\n",
              "      <td>walter@dominiodoemmail.com.br</td>\n",
              "      <td>1</td>\n",
              "    </tr>\n",
              "    <tr>\n",
              "      <th>196</th>\n",
              "      <td>ARLINDO</td>\n",
              "      <td>378</td>\n",
              "      <td>@servicodoemail.com</td>\n",
              "      <td>arlindo@servicodoemail.com</td>\n",
              "      <td>3</td>\n",
              "    </tr>\n",
              "    <tr>\n",
              "      <th>197</th>\n",
              "      <td>MICHAEL</td>\n",
              "      <td>50</td>\n",
              "      <td>@dominiodoemmail.com.br</td>\n",
              "      <td>michael@dominiodoemmail.com.br</td>\n",
              "      <td>1</td>\n",
              "    </tr>\n",
              "    <tr>\n",
              "      <th>198</th>\n",
              "      <td>ALVARO</td>\n",
              "      <td>244</td>\n",
              "      <td>@dominiodoemmail.com.br</td>\n",
              "      <td>alvaro@dominiodoemmail.com.br</td>\n",
              "      <td>1</td>\n",
              "    </tr>\n",
              "    <tr>\n",
              "      <th>199</th>\n",
              "      <td>GEOVANE</td>\n",
              "      <td>387</td>\n",
              "      <td>@servicodoemail.com</td>\n",
              "      <td>geovane@servicodoemail.com</td>\n",
              "      <td>3</td>\n",
              "    </tr>\n",
              "  </tbody>\n",
              "</table>\n",
              "<p>400 rows × 5 columns</p>\n",
              "</div>"
            ],
            "text/plain": [
              "          nome  id_aluno  ...                           email matriculas\n",
              "0        MARIA       189  ...    maria@dominiodoemmail.com.br          1\n",
              "1          ANA        58  ...          ana@servicodoemail.com          5\n",
              "2    FRANCISCA       204  ...    francisca@servicodoemail.com          1\n",
              "3      ANTONIA       383  ...  antonia@dominiodoemmail.com.br          5\n",
              "4      ADRIANA       231  ...      adriana@servicodoemail.com          1\n",
              "..         ...       ...  ...                             ...        ...\n",
              "195     WALTER         9  ...   walter@dominiodoemmail.com.br          1\n",
              "196    ARLINDO       378  ...      arlindo@servicodoemail.com          3\n",
              "197    MICHAEL        50  ...  michael@dominiodoemmail.com.br          1\n",
              "198     ALVARO       244  ...   alvaro@dominiodoemmail.com.br          1\n",
              "199    GEOVANE       387  ...      geovane@servicodoemail.com          3\n",
              "\n",
              "[400 rows x 5 columns]"
            ]
          },
          "metadata": {
            "tags": []
          },
          "execution_count": 99
        }
      ]
    },
    {
      "cell_type": "code",
      "metadata": {
        "colab": {
          "base_uri": "https://localhost:8080/"
        },
        "id": "TuPYOWEkA6H9",
        "outputId": "f336ab22-ce33-48f3-be20-7f661447f8d7"
      },
      "source": [
        "nomes.matriculas.describe()"
      ],
      "execution_count": 100,
      "outputs": [
        {
          "output_type": "execute_result",
          "data": {
            "text/plain": [
              "count    400.000000\n",
              "mean       2.120000\n",
              "std        1.498738\n",
              "min        1.000000\n",
              "25%        1.000000\n",
              "50%        2.000000\n",
              "75%        3.000000\n",
              "max       10.000000\n",
              "Name: matriculas, dtype: float64"
            ]
          },
          "metadata": {
            "tags": []
          },
          "execution_count": 100
        }
      ]
    },
    {
      "cell_type": "code",
      "metadata": {
        "id": "_M7650YbBlL0"
      },
      "source": [
        "import seaborn as sns"
      ],
      "execution_count": 101,
      "outputs": []
    },
    {
      "cell_type": "code",
      "metadata": {
        "colab": {
          "base_uri": "https://localhost:8080/",
          "height": 0
        },
        "id": "TEVM6D74Bv92",
        "outputId": "15bfe2ab-3613-4a80-eca7-615c4cfcc92f"
      },
      "source": [
        "sns.distplot(nomes.matriculas)"
      ],
      "execution_count": 102,
      "outputs": [
        {
          "output_type": "stream",
          "text": [
            "/usr/local/lib/python3.7/dist-packages/seaborn/distributions.py:2557: FutureWarning: `distplot` is a deprecated function and will be removed in a future version. Please adapt your code to use either `displot` (a figure-level function with similar flexibility) or `histplot` (an axes-level function for histograms).\n",
            "  warnings.warn(msg, FutureWarning)\n"
          ],
          "name": "stderr"
        },
        {
          "output_type": "execute_result",
          "data": {
            "text/plain": [
              "<matplotlib.axes._subplots.AxesSubplot at 0x7f7fa9187ad0>"
            ]
          },
          "metadata": {
            "tags": []
          },
          "execution_count": 102
        },
        {
          "output_type": "display_data",
          "data": {
            "image/png": "[encoded data removed]",
            "text/plain": [
              "<Figure size 432x288 with 1 Axes>"
            ]
          },
          "metadata": {
            "tags": [],
            "needs_background": "light"
          }
        }
      ]
    },
    {
      "cell_type": "code",
      "metadata": {
        "colab": {
          "base_uri": "https://localhost:8080/"
        },
        "id": "kUKH4CPCB0qD",
        "outputId": "cb5629dc-80ff-4e22-bb0d-596218967c1d"
      },
      "source": [
        "nomes.matriculas.value_counts()"
      ],
      "execution_count": 103,
      "outputs": [
        {
          "output_type": "execute_result",
          "data": {
            "text/plain": [
              "1     186\n",
              "2      98\n",
              "3      55\n",
              "4      36\n",
              "5      13\n",
              "7       6\n",
              "9       2\n",
              "8       2\n",
              "10      1\n",
              "6       1\n",
              "Name: matriculas, dtype: int64"
            ]
          },
          "metadata": {
            "tags": []
          },
          "execution_count": 103
        }
      ]
    },
    {
      "cell_type": "code",
      "metadata": {
        "colab": {
          "base_uri": "https://localhost:8080/",
          "height": 0
        },
        "id": "9KrvxRW8CKUV",
        "outputId": "e010580a-9f49-45cb-db73-49420df64dac"
      },
      "source": [
        "nomes.sample(5)"
      ],
      "execution_count": 104,
      "outputs": [
        {
          "output_type": "execute_result",
          "data": {
            "text/html": [
              "<div>\n",
              "<style scoped>\n",
              "    .dataframe tbody tr th:only-of-type {\n",
              "        vertical-align: middle;\n",
              "    }\n",
              "\n",
              "    .dataframe tbody tr th {\n",
              "        vertical-align: top;\n",
              "    }\n",
              "\n",
              "    .dataframe thead th {\n",
              "        text-align: right;\n",
              "    }\n",
              "</style>\n",
              "<table border=\"1\" class=\"dataframe\">\n",
              "  <thead>\n",
              "    <tr style=\"text-align: right;\">\n",
              "      <th></th>\n",
              "      <th>nome</th>\n",
              "      <th>id_aluno</th>\n",
              "      <th>dominio</th>\n",
              "      <th>email</th>\n",
              "      <th>matriculas</th>\n",
              "    </tr>\n",
              "  </thead>\n",
              "  <tbody>\n",
              "    <tr>\n",
              "      <th>193</th>\n",
              "      <td>LUCILENE</td>\n",
              "      <td>120</td>\n",
              "      <td>@dominiodoemmail.com.br</td>\n",
              "      <td>lucilene@dominiodoemmail.com.br</td>\n",
              "      <td>2</td>\n",
              "    </tr>\n",
              "    <tr>\n",
              "      <th>187</th>\n",
              "      <td>ELTON</td>\n",
              "      <td>82</td>\n",
              "      <td>@dominiodoemmail.com.br</td>\n",
              "      <td>elton@dominiodoemmail.com.br</td>\n",
              "      <td>2</td>\n",
              "    </tr>\n",
              "    <tr>\n",
              "      <th>32</th>\n",
              "      <td>MARCIO</td>\n",
              "      <td>344</td>\n",
              "      <td>@dominiodoemmail.com.br</td>\n",
              "      <td>marcio@dominiodoemmail.com.br</td>\n",
              "      <td>2</td>\n",
              "    </tr>\n",
              "    <tr>\n",
              "      <th>113</th>\n",
              "      <td>VICENTE</td>\n",
              "      <td>27</td>\n",
              "      <td>@servicodoemail.com</td>\n",
              "      <td>vicente@servicodoemail.com</td>\n",
              "      <td>2</td>\n",
              "    </tr>\n",
              "    <tr>\n",
              "      <th>199</th>\n",
              "      <td>NILZA</td>\n",
              "      <td>339</td>\n",
              "      <td>@dominiodoemmail.com.br</td>\n",
              "      <td>nilza@dominiodoemmail.com.br</td>\n",
              "      <td>1</td>\n",
              "    </tr>\n",
              "  </tbody>\n",
              "</table>\n",
              "</div>"
            ],
            "text/plain": [
              "         nome  id_aluno  ...                            email matriculas\n",
              "193  LUCILENE       120  ...  lucilene@dominiodoemmail.com.br          2\n",
              "187     ELTON        82  ...     elton@dominiodoemmail.com.br          2\n",
              "32     MARCIO       344  ...    marcio@dominiodoemmail.com.br          2\n",
              "113   VICENTE        27  ...       vicente@servicodoemail.com          2\n",
              "199     NILZA       339  ...     nilza@dominiodoemmail.com.br          1\n",
              "\n",
              "[5 rows x 5 columns]"
            ]
          },
          "metadata": {
            "tags": []
          },
          "execution_count": 104
        }
      ]
    },
    {
      "cell_type": "markdown",
      "metadata": {
        "id": "n00WnH-yDHmj"
      },
      "source": [
        "#selecionando cursos"
      ]
    },
    {
      "cell_type": "code",
      "metadata": {
        "id": "BfOPDaoxC0r7"
      },
      "source": [
        "todas_matriculas = []\n",
        "x = np.random.rand(20)\n",
        "prob = x / sum(x)"
      ],
      "execution_count": 105,
      "outputs": []
    },
    {
      "cell_type": "code",
      "metadata": {
        "colab": {
          "base_uri": "https://localhost:8080/",
          "height": 204
        },
        "id": "St6_3E6GDrT3",
        "outputId": "faacd851-71fd-47ee-95c0-0ed10300e267"
      },
      "source": [
        "for index, row in nomes.iterrows():\n",
        "  id = row.id_aluno\n",
        "  matriculas = row.matriculas\n",
        "  for i in range(matriculas):\n",
        "    mat = [id, np.random.choice(cursos.index, p = prob)]\n",
        "    todas_matriculas.append(mat)\n",
        "\n",
        "matriculas = pd.DataFrame(todas_matriculas, columns = ['id_aluno', 'id_curso'])\n",
        "matriculas.head(5)"
      ],
      "execution_count": 106,
      "outputs": [
        {
          "output_type": "execute_result",
          "data": {
            "text/html": [
              "<div>\n",
              "<style scoped>\n",
              "    .dataframe tbody tr th:only-of-type {\n",
              "        vertical-align: middle;\n",
              "    }\n",
              "\n",
              "    .dataframe tbody tr th {\n",
              "        vertical-align: top;\n",
              "    }\n",
              "\n",
              "    .dataframe thead th {\n",
              "        text-align: right;\n",
              "    }\n",
              "</style>\n",
              "<table border=\"1\" class=\"dataframe\">\n",
              "  <thead>\n",
              "    <tr style=\"text-align: right;\">\n",
              "      <th></th>\n",
              "      <th>id_aluno</th>\n",
              "      <th>id_curso</th>\n",
              "    </tr>\n",
              "  </thead>\n",
              "  <tbody>\n",
              "    <tr>\n",
              "      <th>0</th>\n",
              "      <td>189</td>\n",
              "      <td>13</td>\n",
              "    </tr>\n",
              "    <tr>\n",
              "      <th>1</th>\n",
              "      <td>58</td>\n",
              "      <td>4</td>\n",
              "    </tr>\n",
              "    <tr>\n",
              "      <th>2</th>\n",
              "      <td>58</td>\n",
              "      <td>4</td>\n",
              "    </tr>\n",
              "    <tr>\n",
              "      <th>3</th>\n",
              "      <td>58</td>\n",
              "      <td>4</td>\n",
              "    </tr>\n",
              "    <tr>\n",
              "      <th>4</th>\n",
              "      <td>58</td>\n",
              "      <td>10</td>\n",
              "    </tr>\n",
              "  </tbody>\n",
              "</table>\n",
              "</div>"
            ],
            "text/plain": [
              "   id_aluno  id_curso\n",
              "0       189        13\n",
              "1        58         4\n",
              "2        58         4\n",
              "3        58         4\n",
              "4        58        10"
            ]
          },
          "metadata": {
            "tags": []
          },
          "execution_count": 106
        }
      ]
    },
    {
      "cell_type": "code",
      "metadata": {
        "colab": {
          "base_uri": "https://localhost:8080/",
          "height": 130
        },
        "id": "FzgdiZnoEfln",
        "outputId": "a723bb35-4579-420e-d4ac-8287bda05524"
      },
      "source": [
        "matriculas.groupby('id_curso').count().join(cursos['Nome_do_curso']"
      ],
      "execution_count": 107,
      "outputs": [
        {
          "output_type": "error",
          "ename": "SyntaxError",
          "evalue": "ignored",
          "traceback": [
            "\u001b[0;36m  File \u001b[0;32m\"<ipython-input-107-eaea52ab75b8>\"\u001b[0;36m, line \u001b[0;32m1\u001b[0m\n\u001b[0;31m    matriculas.groupby('id_curso').count().join(cursos['Nome_do_curso']\u001b[0m\n\u001b[0m                                                                       ^\u001b[0m\n\u001b[0;31mSyntaxError\u001b[0m\u001b[0;31m:\u001b[0m unexpected EOF while parsing\n"
          ]
        }
      ]
    },
    {
      "cell_type": "code",
      "metadata": {
        "id": "q2KbY78mE0c-",
        "colab": {
          "base_uri": "https://localhost:8080/",
          "height": 700
        },
        "outputId": "d0a24e58-82ec-4d22-cc87-55f4c3146c5b"
      },
      "source": [
        "cursos"
      ],
      "execution_count": 109,
      "outputs": [
        {
          "output_type": "execute_result",
          "data": {
            "text/html": [
              "<div>\n",
              "<style scoped>\n",
              "    .dataframe tbody tr th:only-of-type {\n",
              "        vertical-align: middle;\n",
              "    }\n",
              "\n",
              "    .dataframe tbody tr th {\n",
              "        vertical-align: top;\n",
              "    }\n",
              "\n",
              "    .dataframe thead th {\n",
              "        text-align: right;\n",
              "    }\n",
              "</style>\n",
              "<table border=\"1\" class=\"dataframe\">\n",
              "  <thead>\n",
              "    <tr style=\"text-align: right;\">\n",
              "      <th></th>\n",
              "      <th>Nome_do_curso</th>\n",
              "    </tr>\n",
              "    <tr>\n",
              "      <th>id</th>\n",
              "      <th></th>\n",
              "    </tr>\n",
              "  </thead>\n",
              "  <tbody>\n",
              "    <tr>\n",
              "      <th>1</th>\n",
              "      <td>Lógica de programação</td>\n",
              "    </tr>\n",
              "    <tr>\n",
              "      <th>2</th>\n",
              "      <td>Java para Web</td>\n",
              "    </tr>\n",
              "    <tr>\n",
              "      <th>3</th>\n",
              "      <td>C# para Web</td>\n",
              "    </tr>\n",
              "    <tr>\n",
              "      <th>4</th>\n",
              "      <td>Ruby on Rails</td>\n",
              "    </tr>\n",
              "    <tr>\n",
              "      <th>5</th>\n",
              "      <td>Cursos de Python</td>\n",
              "    </tr>\n",
              "    <tr>\n",
              "      <th>6</th>\n",
              "      <td>PHP com MySql</td>\n",
              "    </tr>\n",
              "    <tr>\n",
              "      <th>7</th>\n",
              "      <td>.NET para web</td>\n",
              "    </tr>\n",
              "    <tr>\n",
              "      <th>8</th>\n",
              "      <td>Novas integrações com Java</td>\n",
              "    </tr>\n",
              "    <tr>\n",
              "      <th>9</th>\n",
              "      <td>TDD com Java</td>\n",
              "    </tr>\n",
              "    <tr>\n",
              "      <th>10</th>\n",
              "      <td>Código limpo com C#</td>\n",
              "    </tr>\n",
              "    <tr>\n",
              "      <th>11</th>\n",
              "      <td>Preparatório para certificação Java</td>\n",
              "    </tr>\n",
              "    <tr>\n",
              "      <th>12</th>\n",
              "      <td>Hardware básico</td>\n",
              "    </tr>\n",
              "    <tr>\n",
              "      <th>13</th>\n",
              "      <td>Persistência com .NET</td>\n",
              "    </tr>\n",
              "    <tr>\n",
              "      <th>14</th>\n",
              "      <td>Desenvolvendo jogos</td>\n",
              "    </tr>\n",
              "    <tr>\n",
              "      <th>15</th>\n",
              "      <td>Análise de dados</td>\n",
              "    </tr>\n",
              "    <tr>\n",
              "      <th>16</th>\n",
              "      <td>Estatística básica</td>\n",
              "    </tr>\n",
              "    <tr>\n",
              "      <th>17</th>\n",
              "      <td>Internet das coisas</td>\n",
              "    </tr>\n",
              "    <tr>\n",
              "      <th>18</th>\n",
              "      <td>Programação funcional</td>\n",
              "    </tr>\n",
              "    <tr>\n",
              "      <th>19</th>\n",
              "      <td>Boas práticas em Java</td>\n",
              "    </tr>\n",
              "    <tr>\n",
              "      <th>20</th>\n",
              "      <td>Orientação objetos com Java</td>\n",
              "    </tr>\n",
              "  </tbody>\n",
              "</table>\n",
              "</div>"
            ],
            "text/plain": [
              "                          Nome_do_curso\n",
              "id                                     \n",
              "1                 Lógica de programação\n",
              "2                         Java para Web\n",
              "3                           C# para Web\n",
              "4                         Ruby on Rails\n",
              "5                      Cursos de Python\n",
              "6                         PHP com MySql\n",
              "7                         .NET para web\n",
              "8            Novas integrações com Java\n",
              "9                          TDD com Java\n",
              "10                  Código limpo com C#\n",
              "11  Preparatório para certificação Java\n",
              "12                      Hardware básico\n",
              "13                Persistência com .NET\n",
              "14                  Desenvolvendo jogos\n",
              "15                     Análise de dados\n",
              "16                   Estatística básica\n",
              "17                  Internet das coisas\n",
              "18                Programação funcional\n",
              "19                Boas práticas em Java\n",
              "20          Orientação objetos com Java"
            ]
          },
          "metadata": {
            "tags": []
          },
          "execution_count": 109
        }
      ]
    },
    {
      "cell_type": "code",
      "metadata": {
        "id": "NuCztnlBFMqP"
      },
      "source": [
        "matriculas_por_curso = matriculas.groupby('id_curso').count().join(cursos['Nome_do_curso']).rename(columns={'id_aluno':'quantidade_de_alunos'})"
      ],
      "execution_count": 110,
      "outputs": []
    },
    {
      "cell_type": "code",
      "metadata": {
        "colab": {
          "base_uri": "https://localhost:8080/",
          "height": 700
        },
        "id": "iKciNladFaKj",
        "outputId": "441521b1-e8b0-41a6-8301-fd3c49d856be"
      },
      "source": [
        "matriculas_por_curso"
      ],
      "execution_count": 111,
      "outputs": [
        {
          "output_type": "execute_result",
          "data": {
            "text/html": [
              "<div>\n",
              "<style scoped>\n",
              "    .dataframe tbody tr th:only-of-type {\n",
              "        vertical-align: middle;\n",
              "    }\n",
              "\n",
              "    .dataframe tbody tr th {\n",
              "        vertical-align: top;\n",
              "    }\n",
              "\n",
              "    .dataframe thead th {\n",
              "        text-align: right;\n",
              "    }\n",
              "</style>\n",
              "<table border=\"1\" class=\"dataframe\">\n",
              "  <thead>\n",
              "    <tr style=\"text-align: right;\">\n",
              "      <th></th>\n",
              "      <th>quantidade_de_alunos</th>\n",
              "      <th>Nome_do_curso</th>\n",
              "    </tr>\n",
              "    <tr>\n",
              "      <th>id_curso</th>\n",
              "      <th></th>\n",
              "      <th></th>\n",
              "    </tr>\n",
              "  </thead>\n",
              "  <tbody>\n",
              "    <tr>\n",
              "      <th>1</th>\n",
              "      <td>56</td>\n",
              "      <td>Lógica de programação</td>\n",
              "    </tr>\n",
              "    <tr>\n",
              "      <th>2</th>\n",
              "      <td>36</td>\n",
              "      <td>Java para Web</td>\n",
              "    </tr>\n",
              "    <tr>\n",
              "      <th>3</th>\n",
              "      <td>67</td>\n",
              "      <td>C# para Web</td>\n",
              "    </tr>\n",
              "    <tr>\n",
              "      <th>4</th>\n",
              "      <td>97</td>\n",
              "      <td>Ruby on Rails</td>\n",
              "    </tr>\n",
              "    <tr>\n",
              "      <th>5</th>\n",
              "      <td>10</td>\n",
              "      <td>Cursos de Python</td>\n",
              "    </tr>\n",
              "    <tr>\n",
              "      <th>6</th>\n",
              "      <td>28</td>\n",
              "      <td>PHP com MySql</td>\n",
              "    </tr>\n",
              "    <tr>\n",
              "      <th>7</th>\n",
              "      <td>5</td>\n",
              "      <td>.NET para web</td>\n",
              "    </tr>\n",
              "    <tr>\n",
              "      <th>8</th>\n",
              "      <td>10</td>\n",
              "      <td>Novas integrações com Java</td>\n",
              "    </tr>\n",
              "    <tr>\n",
              "      <th>9</th>\n",
              "      <td>17</td>\n",
              "      <td>TDD com Java</td>\n",
              "    </tr>\n",
              "    <tr>\n",
              "      <th>10</th>\n",
              "      <td>45</td>\n",
              "      <td>Código limpo com C#</td>\n",
              "    </tr>\n",
              "    <tr>\n",
              "      <th>11</th>\n",
              "      <td>84</td>\n",
              "      <td>Preparatório para certificação Java</td>\n",
              "    </tr>\n",
              "    <tr>\n",
              "      <th>12</th>\n",
              "      <td>25</td>\n",
              "      <td>Hardware básico</td>\n",
              "    </tr>\n",
              "    <tr>\n",
              "      <th>13</th>\n",
              "      <td>52</td>\n",
              "      <td>Persistência com .NET</td>\n",
              "    </tr>\n",
              "    <tr>\n",
              "      <th>14</th>\n",
              "      <td>70</td>\n",
              "      <td>Desenvolvendo jogos</td>\n",
              "    </tr>\n",
              "    <tr>\n",
              "      <th>15</th>\n",
              "      <td>70</td>\n",
              "      <td>Análise de dados</td>\n",
              "    </tr>\n",
              "    <tr>\n",
              "      <th>16</th>\n",
              "      <td>5</td>\n",
              "      <td>Estatística básica</td>\n",
              "    </tr>\n",
              "    <tr>\n",
              "      <th>17</th>\n",
              "      <td>38</td>\n",
              "      <td>Internet das coisas</td>\n",
              "    </tr>\n",
              "    <tr>\n",
              "      <th>18</th>\n",
              "      <td>19</td>\n",
              "      <td>Programação funcional</td>\n",
              "    </tr>\n",
              "    <tr>\n",
              "      <th>19</th>\n",
              "      <td>27</td>\n",
              "      <td>Boas práticas em Java</td>\n",
              "    </tr>\n",
              "    <tr>\n",
              "      <th>20</th>\n",
              "      <td>87</td>\n",
              "      <td>Orientação objetos com Java</td>\n",
              "    </tr>\n",
              "  </tbody>\n",
              "</table>\n",
              "</div>"
            ],
            "text/plain": [
              "          quantidade_de_alunos                        Nome_do_curso\n",
              "id_curso                                                           \n",
              "1                           56                Lógica de programação\n",
              "2                           36                        Java para Web\n",
              "3                           67                          C# para Web\n",
              "4                           97                        Ruby on Rails\n",
              "5                           10                     Cursos de Python\n",
              "6                           28                        PHP com MySql\n",
              "7                            5                        .NET para web\n",
              "8                           10           Novas integrações com Java\n",
              "9                           17                         TDD com Java\n",
              "10                          45                  Código limpo com C#\n",
              "11                          84  Preparatório para certificação Java\n",
              "12                          25                      Hardware básico\n",
              "13                          52                Persistência com .NET\n",
              "14                          70                  Desenvolvendo jogos\n",
              "15                          70                     Análise de dados\n",
              "16                           5                   Estatística básica\n",
              "17                          38                  Internet das coisas\n",
              "18                          19                Programação funcional\n",
              "19                          27                Boas práticas em Java\n",
              "20                          87          Orientação objetos com Java"
            ]
          },
          "metadata": {
            "tags": []
          },
          "execution_count": 111
        }
      ]
    },
    {
      "cell_type": "markdown",
      "metadata": {
        "id": "okfD_vFfj__s"
      },
      "source": [
        "#saidas em diferentes formatos"
      ]
    },
    {
      "cell_type": "code",
      "metadata": {
        "id": "pjnl8aaZGJMy"
      },
      "source": [
        "matriculas_por_curso.to_csv('matriculas_por_curso.csv', index = False)"
      ],
      "execution_count": 112,
      "outputs": []
    },
    {
      "cell_type": "code",
      "metadata": {
        "colab": {
          "base_uri": "https://localhost:8080/",
          "height": 669
        },
        "id": "HaKvp_IZGOfB",
        "outputId": "260cfb41-2618-4551-8dd0-08af09d70d41"
      },
      "source": [
        "pd.read_csv('matriculas_por_curso.csv')"
      ],
      "execution_count": 113,
      "outputs": [
        {
          "output_type": "execute_result",
          "data": {
            "text/html": [
              "<div>\n",
              "<style scoped>\n",
              "    .dataframe tbody tr th:only-of-type {\n",
              "        vertical-align: middle;\n",
              "    }\n",
              "\n",
              "    .dataframe tbody tr th {\n",
              "        vertical-align: top;\n",
              "    }\n",
              "\n",
              "    .dataframe thead th {\n",
              "        text-align: right;\n",
              "    }\n",
              "</style>\n",
              "<table border=\"1\" class=\"dataframe\">\n",
              "  <thead>\n",
              "    <tr style=\"text-align: right;\">\n",
              "      <th></th>\n",
              "      <th>quantidade_de_alunos</th>\n",
              "      <th>Nome_do_curso</th>\n",
              "    </tr>\n",
              "  </thead>\n",
              "  <tbody>\n",
              "    <tr>\n",
              "      <th>0</th>\n",
              "      <td>56</td>\n",
              "      <td>Lógica de programação</td>\n",
              "    </tr>\n",
              "    <tr>\n",
              "      <th>1</th>\n",
              "      <td>36</td>\n",
              "      <td>Java para Web</td>\n",
              "    </tr>\n",
              "    <tr>\n",
              "      <th>2</th>\n",
              "      <td>67</td>\n",
              "      <td>C# para Web</td>\n",
              "    </tr>\n",
              "    <tr>\n",
              "      <th>3</th>\n",
              "      <td>97</td>\n",
              "      <td>Ruby on Rails</td>\n",
              "    </tr>\n",
              "    <tr>\n",
              "      <th>4</th>\n",
              "      <td>10</td>\n",
              "      <td>Cursos de Python</td>\n",
              "    </tr>\n",
              "    <tr>\n",
              "      <th>5</th>\n",
              "      <td>28</td>\n",
              "      <td>PHP com MySql</td>\n",
              "    </tr>\n",
              "    <tr>\n",
              "      <th>6</th>\n",
              "      <td>5</td>\n",
              "      <td>.NET para web</td>\n",
              "    </tr>\n",
              "    <tr>\n",
              "      <th>7</th>\n",
              "      <td>10</td>\n",
              "      <td>Novas integrações com Java</td>\n",
              "    </tr>\n",
              "    <tr>\n",
              "      <th>8</th>\n",
              "      <td>17</td>\n",
              "      <td>TDD com Java</td>\n",
              "    </tr>\n",
              "    <tr>\n",
              "      <th>9</th>\n",
              "      <td>45</td>\n",
              "      <td>Código limpo com C#</td>\n",
              "    </tr>\n",
              "    <tr>\n",
              "      <th>10</th>\n",
              "      <td>84</td>\n",
              "      <td>Preparatório para certificação Java</td>\n",
              "    </tr>\n",
              "    <tr>\n",
              "      <th>11</th>\n",
              "      <td>25</td>\n",
              "      <td>Hardware básico</td>\n",
              "    </tr>\n",
              "    <tr>\n",
              "      <th>12</th>\n",
              "      <td>52</td>\n",
              "      <td>Persistência com .NET</td>\n",
              "    </tr>\n",
              "    <tr>\n",
              "      <th>13</th>\n",
              "      <td>70</td>\n",
              "      <td>Desenvolvendo jogos</td>\n",
              "    </tr>\n",
              "    <tr>\n",
              "      <th>14</th>\n",
              "      <td>70</td>\n",
              "      <td>Análise de dados</td>\n",
              "    </tr>\n",
              "    <tr>\n",
              "      <th>15</th>\n",
              "      <td>5</td>\n",
              "      <td>Estatística básica</td>\n",
              "    </tr>\n",
              "    <tr>\n",
              "      <th>16</th>\n",
              "      <td>38</td>\n",
              "      <td>Internet das coisas</td>\n",
              "    </tr>\n",
              "    <tr>\n",
              "      <th>17</th>\n",
              "      <td>19</td>\n",
              "      <td>Programação funcional</td>\n",
              "    </tr>\n",
              "    <tr>\n",
              "      <th>18</th>\n",
              "      <td>27</td>\n",
              "      <td>Boas práticas em Java</td>\n",
              "    </tr>\n",
              "    <tr>\n",
              "      <th>19</th>\n",
              "      <td>87</td>\n",
              "      <td>Orientação objetos com Java</td>\n",
              "    </tr>\n",
              "  </tbody>\n",
              "</table>\n",
              "</div>"
            ],
            "text/plain": [
              "    quantidade_de_alunos                        Nome_do_curso\n",
              "0                     56                Lógica de programação\n",
              "1                     36                        Java para Web\n",
              "2                     67                          C# para Web\n",
              "3                     97                        Ruby on Rails\n",
              "4                     10                     Cursos de Python\n",
              "5                     28                        PHP com MySql\n",
              "6                      5                        .NET para web\n",
              "7                     10           Novas integrações com Java\n",
              "8                     17                         TDD com Java\n",
              "9                     45                  Código limpo com C#\n",
              "10                    84  Preparatório para certificação Java\n",
              "11                    25                      Hardware básico\n",
              "12                    52                Persistência com .NET\n",
              "13                    70                  Desenvolvendo jogos\n",
              "14                    70                     Análise de dados\n",
              "15                     5                   Estatística básica\n",
              "16                    38                  Internet das coisas\n",
              "17                    19                Programação funcional\n",
              "18                    27                Boas práticas em Java\n",
              "19                    87          Orientação objetos com Java"
            ]
          },
          "metadata": {
            "tags": []
          },
          "execution_count": 113
        }
      ]
    },
    {
      "cell_type": "code",
      "metadata": {
        "id": "D2tUaFWlkX6T"
      },
      "source": [
        "matriculas_json = matriculas_por_curso.to_json()"
      ],
      "execution_count": 114,
      "outputs": []
    },
    {
      "cell_type": "code",
      "metadata": {
        "colab": {
          "base_uri": "https://localhost:8080/",
          "height": 171
        },
        "id": "8Su9f9mnkgIL",
        "outputId": "fdf84f50-0db4-4307-9a36-f2872632255f"
      },
      "source": [
        "matriculas_json"
      ],
      "execution_count": 115,
      "outputs": [
        {
          "output_type": "execute_result",
          "data": {
            "application/vnd.google.colaboratory.intrinsic+json": {
              "type": "string"
            },
            "text/plain": [
              "'{\"quantidade_de_alunos\":{\"1\":56,\"2\":36,\"3\":67,\"4\":97,\"5\":10,\"6\":28,\"7\":5,\"8\":10,\"9\":17,\"10\":45,\"11\":84,\"12\":25,\"13\":52,\"14\":70,\"15\":70,\"16\":5,\"17\":38,\"18\":19,\"19\":27,\"20\":87},\"Nome_do_curso\":{\"1\":\"L\\\\u00f3gica de programa\\\\u00e7\\\\u00e3o\",\"2\":\"Java para Web\",\"3\":\"C# para Web\",\"4\":\"Ruby on Rails\",\"5\":\"Cursos de Python\",\"6\":\"PHP com MySql\",\"7\":\".NET para web\",\"8\":\"Novas integra\\\\u00e7\\\\u00f5es com Java\",\"9\":\"TDD com Java\",\"10\":\"C\\\\u00f3digo limpo com C#\",\"11\":\"Preparat\\\\u00f3rio para certifica\\\\u00e7\\\\u00e3o Java\",\"12\":\"Hardware b\\\\u00e1sico\",\"13\":\"Persist\\\\u00eancia com .NET\",\"14\":\"Desenvolvendo jogos\",\"15\":\"An\\\\u00e1lise de dados\",\"16\":\"Estat\\\\u00edstica b\\\\u00e1sica\",\"17\":\"Internet das coisas\",\"18\":\"Programa\\\\u00e7\\\\u00e3o funcional\",\"19\":\"Boas pr\\\\u00e1ticas em Java\",\"20\":\"Orienta\\\\u00e7\\\\u00e3o objetos com Java\"}}'"
            ]
          },
          "metadata": {
            "tags": []
          },
          "execution_count": 115
        }
      ]
    },
    {
      "cell_type": "code",
      "metadata": {
        "colab": {
          "base_uri": "https://localhost:8080/",
          "height": 164
        },
        "id": "Nc-HNeKAkhXi",
        "outputId": "dc9bc895-d04d-4564-9405-d7e4f158f463"
      },
      "source": [
        "print(matriculas_html)"
      ],
      "execution_count": 116,
      "outputs": [
        {
          "output_type": "error",
          "ename": "NameError",
          "evalue": "ignored",
          "traceback": [
            "\u001b[0;31m---------------------------------------------------------------------------\u001b[0m",
            "\u001b[0;31mNameError\u001b[0m                                 Traceback (most recent call last)",
            "\u001b[0;32m<ipython-input-116-012b266ffbce>\u001b[0m in \u001b[0;36m<module>\u001b[0;34m()\u001b[0m\n\u001b[0;32m----> 1\u001b[0;31m \u001b[0mprint\u001b[0m\u001b[0;34m(\u001b[0m\u001b[0mmatriculas_html\u001b[0m\u001b[0;34m)\u001b[0m\u001b[0;34m\u001b[0m\u001b[0;34m\u001b[0m\u001b[0m\n\u001b[0m",
            "\u001b[0;31mNameError\u001b[0m: name 'matriculas_html' is not defined"
          ]
        }
      ]
    },
    {
      "cell_type": "markdown",
      "metadata": {
        "id": "-OrpyPxMmX0m"
      },
      "source": [
        "# criando banco SQL"
      ]
    },
    {
      "cell_type": "code",
      "metadata": {
        "colab": {
          "base_uri": "https://localhost:8080/"
        },
        "id": "PDplh3hZkwnn",
        "outputId": "b07de5dd-60ff-4c82-f8c7-815c3fcbca91"
      },
      "source": [
        "!pip install sqlalchemy"
      ],
      "execution_count": 117,
      "outputs": [
        {
          "output_type": "stream",
          "text": [
            "Requirement already satisfied: sqlalchemy in /usr/local/lib/python3.7/dist-packages (1.4.7)\n",
            "Requirement already satisfied: greenlet!=0.4.17; python_version >= \"3\" in /usr/local/lib/python3.7/dist-packages (from sqlalchemy) (1.0.0)\n",
            "Requirement already satisfied: importlib-metadata; python_version < \"3.8\" in /usr/local/lib/python3.7/dist-packages (from sqlalchemy) (3.10.1)\n",
            "Requirement already satisfied: typing-extensions>=3.6.4; python_version < \"3.8\" in /usr/local/lib/python3.7/dist-packages (from importlib-metadata; python_version < \"3.8\"->sqlalchemy) (3.7.4.3)\n",
            "Requirement already satisfied: zipp>=0.5 in /usr/local/lib/python3.7/dist-packages (from importlib-metadata; python_version < \"3.8\"->sqlalchemy) (3.4.1)\n"
          ],
          "name": "stdout"
        }
      ]
    },
    {
      "cell_type": "code",
      "metadata": {
        "id": "kaofdTiLmdcP"
      },
      "source": [
        "from sqlalchemy import create_engine, MetaData, Table\n"
      ],
      "execution_count": 118,
      "outputs": []
    },
    {
      "cell_type": "code",
      "metadata": {
        "id": "TnPjJmEPmpcN"
      },
      "source": [
        "engine = create_engine('sqlite:///:memory:')"
      ],
      "execution_count": 119,
      "outputs": []
    },
    {
      "cell_type": "code",
      "metadata": {
        "colab": {
          "base_uri": "https://localhost:8080/"
        },
        "id": "kBzIiGDNm05j",
        "outputId": "64e77900-e11b-4edf-de29-278db747b724"
      },
      "source": [
        "engine"
      ],
      "execution_count": 120,
      "outputs": [
        {
          "output_type": "execute_result",
          "data": {
            "text/plain": [
              "Engine(sqlite:///:memory:)"
            ]
          },
          "metadata": {
            "tags": []
          },
          "execution_count": 120
        }
      ]
    },
    {
      "cell_type": "code",
      "metadata": {
        "colab": {
          "base_uri": "https://localhost:8080/"
        },
        "id": "5-Hijwjrm2Ia",
        "outputId": "a1f8f8ea-d17e-4270-e95b-745a21e2e354"
      },
      "source": [
        "type(engine)"
      ],
      "execution_count": 121,
      "outputs": [
        {
          "output_type": "execute_result",
          "data": {
            "text/plain": [
              "sqlalchemy.engine.base.Engine"
            ]
          },
          "metadata": {
            "tags": []
          },
          "execution_count": 121
        }
      ]
    },
    {
      "cell_type": "code",
      "metadata": {
        "id": "MH8bE5bwm6Fe"
      },
      "source": [
        "matriculas_por_curso.to_sql('matriculas', engine)"
      ],
      "execution_count": 122,
      "outputs": []
    },
    {
      "cell_type": "code",
      "metadata": {
        "colab": {
          "base_uri": "https://localhost:8080/"
        },
        "id": "sfoi045enh3M",
        "outputId": "88f3e7d1-0d95-4ea9-e431-41639d07b0ff"
      },
      "source": [
        "print(engine.table_names())"
      ],
      "execution_count": 123,
      "outputs": [
        {
          "output_type": "stream",
          "text": [
            "['matriculas']\n"
          ],
          "name": "stdout"
        },
        {
          "output_type": "stream",
          "text": [
            "/usr/local/lib/python3.7/dist-packages/ipykernel_launcher.py:1: SADeprecationWarning: The Engine.table_names() method is deprecated and will be removed in a future release.  Please refer to Inspector.get_table_names(). (deprecated since: 1.4)\n",
            "  \"\"\"Entry point for launching an IPython kernel.\n"
          ],
          "name": "stderr"
        }
      ]
    },
    {
      "cell_type": "markdown",
      "metadata": {
        "id": "45yTD_PQqlsj"
      },
      "source": [
        "# Buscando do Banco SQL"
      ]
    },
    {
      "cell_type": "code",
      "metadata": {
        "id": "ktEtfaynqDIo"
      },
      "source": [
        "query = 'select * from matriculas where quantidade_de_alunos < 20'"
      ],
      "execution_count": 124,
      "outputs": []
    },
    {
      "cell_type": "code",
      "metadata": {
        "colab": {
          "base_uri": "https://localhost:8080/",
          "height": 0
        },
        "id": "2pgErNDeqyEH",
        "outputId": "d5062c88-55f7-400a-c49d-a738f1f1345b"
      },
      "source": [
        "pd.read_sql(query,engine)"
      ],
      "execution_count": 125,
      "outputs": [
        {
          "output_type": "execute_result",
          "data": {
            "text/html": [
              "<div>\n",
              "<style scoped>\n",
              "    .dataframe tbody tr th:only-of-type {\n",
              "        vertical-align: middle;\n",
              "    }\n",
              "\n",
              "    .dataframe tbody tr th {\n",
              "        vertical-align: top;\n",
              "    }\n",
              "\n",
              "    .dataframe thead th {\n",
              "        text-align: right;\n",
              "    }\n",
              "</style>\n",
              "<table border=\"1\" class=\"dataframe\">\n",
              "  <thead>\n",
              "    <tr style=\"text-align: right;\">\n",
              "      <th></th>\n",
              "      <th>id_curso</th>\n",
              "      <th>quantidade_de_alunos</th>\n",
              "      <th>Nome_do_curso</th>\n",
              "    </tr>\n",
              "  </thead>\n",
              "  <tbody>\n",
              "    <tr>\n",
              "      <th>0</th>\n",
              "      <td>5</td>\n",
              "      <td>10</td>\n",
              "      <td>Cursos de Python</td>\n",
              "    </tr>\n",
              "    <tr>\n",
              "      <th>1</th>\n",
              "      <td>7</td>\n",
              "      <td>5</td>\n",
              "      <td>.NET para web</td>\n",
              "    </tr>\n",
              "    <tr>\n",
              "      <th>2</th>\n",
              "      <td>8</td>\n",
              "      <td>10</td>\n",
              "      <td>Novas integrações com Java</td>\n",
              "    </tr>\n",
              "    <tr>\n",
              "      <th>3</th>\n",
              "      <td>9</td>\n",
              "      <td>17</td>\n",
              "      <td>TDD com Java</td>\n",
              "    </tr>\n",
              "    <tr>\n",
              "      <th>4</th>\n",
              "      <td>16</td>\n",
              "      <td>5</td>\n",
              "      <td>Estatística básica</td>\n",
              "    </tr>\n",
              "    <tr>\n",
              "      <th>5</th>\n",
              "      <td>18</td>\n",
              "      <td>19</td>\n",
              "      <td>Programação funcional</td>\n",
              "    </tr>\n",
              "  </tbody>\n",
              "</table>\n",
              "</div>"
            ],
            "text/plain": [
              "   id_curso  quantidade_de_alunos               Nome_do_curso\n",
              "0         5                    10            Cursos de Python\n",
              "1         7                     5               .NET para web\n",
              "2         8                    10  Novas integrações com Java\n",
              "3         9                    17                TDD com Java\n",
              "4        16                     5          Estatística básica\n",
              "5        18                    19       Programação funcional"
            ]
          },
          "metadata": {
            "tags": []
          },
          "execution_count": 125
        }
      ]
    },
    {
      "cell_type": "code",
      "metadata": {
        "colab": {
          "base_uri": "https://localhost:8080/",
          "height": 0
        },
        "id": "US_NuDEVq3tV",
        "outputId": "17b16305-16c0-46c3-b5e9-44a98413bf48"
      },
      "source": [
        "pd.read_sql_table('matriculas',engine,columns = ['Nome_do_curso','quantidade_de_alunos'])"
      ],
      "execution_count": 126,
      "outputs": [
        {
          "output_type": "execute_result",
          "data": {
            "text/html": [
              "<div>\n",
              "<style scoped>\n",
              "    .dataframe tbody tr th:only-of-type {\n",
              "        vertical-align: middle;\n",
              "    }\n",
              "\n",
              "    .dataframe tbody tr th {\n",
              "        vertical-align: top;\n",
              "    }\n",
              "\n",
              "    .dataframe thead th {\n",
              "        text-align: right;\n",
              "    }\n",
              "</style>\n",
              "<table border=\"1\" class=\"dataframe\">\n",
              "  <thead>\n",
              "    <tr style=\"text-align: right;\">\n",
              "      <th></th>\n",
              "      <th>Nome_do_curso</th>\n",
              "      <th>quantidade_de_alunos</th>\n",
              "    </tr>\n",
              "  </thead>\n",
              "  <tbody>\n",
              "    <tr>\n",
              "      <th>0</th>\n",
              "      <td>Lógica de programação</td>\n",
              "      <td>56</td>\n",
              "    </tr>\n",
              "    <tr>\n",
              "      <th>1</th>\n",
              "      <td>Java para Web</td>\n",
              "      <td>36</td>\n",
              "    </tr>\n",
              "    <tr>\n",
              "      <th>2</th>\n",
              "      <td>C# para Web</td>\n",
              "      <td>67</td>\n",
              "    </tr>\n",
              "    <tr>\n",
              "      <th>3</th>\n",
              "      <td>Ruby on Rails</td>\n",
              "      <td>97</td>\n",
              "    </tr>\n",
              "    <tr>\n",
              "      <th>4</th>\n",
              "      <td>Cursos de Python</td>\n",
              "      <td>10</td>\n",
              "    </tr>\n",
              "    <tr>\n",
              "      <th>5</th>\n",
              "      <td>PHP com MySql</td>\n",
              "      <td>28</td>\n",
              "    </tr>\n",
              "    <tr>\n",
              "      <th>6</th>\n",
              "      <td>.NET para web</td>\n",
              "      <td>5</td>\n",
              "    </tr>\n",
              "    <tr>\n",
              "      <th>7</th>\n",
              "      <td>Novas integrações com Java</td>\n",
              "      <td>10</td>\n",
              "    </tr>\n",
              "    <tr>\n",
              "      <th>8</th>\n",
              "      <td>TDD com Java</td>\n",
              "      <td>17</td>\n",
              "    </tr>\n",
              "    <tr>\n",
              "      <th>9</th>\n",
              "      <td>Código limpo com C#</td>\n",
              "      <td>45</td>\n",
              "    </tr>\n",
              "    <tr>\n",
              "      <th>10</th>\n",
              "      <td>Preparatório para certificação Java</td>\n",
              "      <td>84</td>\n",
              "    </tr>\n",
              "    <tr>\n",
              "      <th>11</th>\n",
              "      <td>Hardware básico</td>\n",
              "      <td>25</td>\n",
              "    </tr>\n",
              "    <tr>\n",
              "      <th>12</th>\n",
              "      <td>Persistência com .NET</td>\n",
              "      <td>52</td>\n",
              "    </tr>\n",
              "    <tr>\n",
              "      <th>13</th>\n",
              "      <td>Desenvolvendo jogos</td>\n",
              "      <td>70</td>\n",
              "    </tr>\n",
              "    <tr>\n",
              "      <th>14</th>\n",
              "      <td>Análise de dados</td>\n",
              "      <td>70</td>\n",
              "    </tr>\n",
              "    <tr>\n",
              "      <th>15</th>\n",
              "      <td>Estatística básica</td>\n",
              "      <td>5</td>\n",
              "    </tr>\n",
              "    <tr>\n",
              "      <th>16</th>\n",
              "      <td>Internet das coisas</td>\n",
              "      <td>38</td>\n",
              "    </tr>\n",
              "    <tr>\n",
              "      <th>17</th>\n",
              "      <td>Programação funcional</td>\n",
              "      <td>19</td>\n",
              "    </tr>\n",
              "    <tr>\n",
              "      <th>18</th>\n",
              "      <td>Boas práticas em Java</td>\n",
              "      <td>27</td>\n",
              "    </tr>\n",
              "    <tr>\n",
              "      <th>19</th>\n",
              "      <td>Orientação objetos com Java</td>\n",
              "      <td>87</td>\n",
              "    </tr>\n",
              "  </tbody>\n",
              "</table>\n",
              "</div>"
            ],
            "text/plain": [
              "                          Nome_do_curso  quantidade_de_alunos\n",
              "0                 Lógica de programação                    56\n",
              "1                         Java para Web                    36\n",
              "2                           C# para Web                    67\n",
              "3                         Ruby on Rails                    97\n",
              "4                      Cursos de Python                    10\n",
              "5                         PHP com MySql                    28\n",
              "6                         .NET para web                     5\n",
              "7            Novas integrações com Java                    10\n",
              "8                          TDD com Java                    17\n",
              "9                   Código limpo com C#                    45\n",
              "10  Preparatório para certificação Java                    84\n",
              "11                      Hardware básico                    25\n",
              "12                Persistência com .NET                    52\n",
              "13                  Desenvolvendo jogos                    70\n",
              "14                     Análise de dados                    70\n",
              "15                   Estatística básica                     5\n",
              "16                  Internet das coisas                    38\n",
              "17                Programação funcional                    19\n",
              "18                Boas práticas em Java                    27\n",
              "19          Orientação objetos com Java                    87"
            ]
          },
          "metadata": {
            "tags": []
          },
          "execution_count": 126
        }
      ]
    },
    {
      "cell_type": "code",
      "metadata": {
        "id": "vGcMyCZVrNgC"
      },
      "source": [
        "muitas_matriculas = pd.read_sql_table('matriculas',engine,columns = ['Nome_do_curso','quantidade_de_alunos'])"
      ],
      "execution_count": 127,
      "outputs": []
    },
    {
      "cell_type": "code",
      "metadata": {
        "colab": {
          "base_uri": "https://localhost:8080/",
          "height": 0
        },
        "id": "itWp6c84rlnl",
        "outputId": "b152cbdf-cfac-40a3-c33c-dd4d56dc7404"
      },
      "source": [
        "muitas_matriculas"
      ],
      "execution_count": 128,
      "outputs": [
        {
          "output_type": "execute_result",
          "data": {
            "text/html": [
              "<div>\n",
              "<style scoped>\n",
              "    .dataframe tbody tr th:only-of-type {\n",
              "        vertical-align: middle;\n",
              "    }\n",
              "\n",
              "    .dataframe tbody tr th {\n",
              "        vertical-align: top;\n",
              "    }\n",
              "\n",
              "    .dataframe thead th {\n",
              "        text-align: right;\n",
              "    }\n",
              "</style>\n",
              "<table border=\"1\" class=\"dataframe\">\n",
              "  <thead>\n",
              "    <tr style=\"text-align: right;\">\n",
              "      <th></th>\n",
              "      <th>Nome_do_curso</th>\n",
              "      <th>quantidade_de_alunos</th>\n",
              "    </tr>\n",
              "  </thead>\n",
              "  <tbody>\n",
              "    <tr>\n",
              "      <th>0</th>\n",
              "      <td>Lógica de programação</td>\n",
              "      <td>56</td>\n",
              "    </tr>\n",
              "    <tr>\n",
              "      <th>1</th>\n",
              "      <td>Java para Web</td>\n",
              "      <td>36</td>\n",
              "    </tr>\n",
              "    <tr>\n",
              "      <th>2</th>\n",
              "      <td>C# para Web</td>\n",
              "      <td>67</td>\n",
              "    </tr>\n",
              "    <tr>\n",
              "      <th>3</th>\n",
              "      <td>Ruby on Rails</td>\n",
              "      <td>97</td>\n",
              "    </tr>\n",
              "    <tr>\n",
              "      <th>4</th>\n",
              "      <td>Cursos de Python</td>\n",
              "      <td>10</td>\n",
              "    </tr>\n",
              "    <tr>\n",
              "      <th>5</th>\n",
              "      <td>PHP com MySql</td>\n",
              "      <td>28</td>\n",
              "    </tr>\n",
              "    <tr>\n",
              "      <th>6</th>\n",
              "      <td>.NET para web</td>\n",
              "      <td>5</td>\n",
              "    </tr>\n",
              "    <tr>\n",
              "      <th>7</th>\n",
              "      <td>Novas integrações com Java</td>\n",
              "      <td>10</td>\n",
              "    </tr>\n",
              "    <tr>\n",
              "      <th>8</th>\n",
              "      <td>TDD com Java</td>\n",
              "      <td>17</td>\n",
              "    </tr>\n",
              "    <tr>\n",
              "      <th>9</th>\n",
              "      <td>Código limpo com C#</td>\n",
              "      <td>45</td>\n",
              "    </tr>\n",
              "    <tr>\n",
              "      <th>10</th>\n",
              "      <td>Preparatório para certificação Java</td>\n",
              "      <td>84</td>\n",
              "    </tr>\n",
              "    <tr>\n",
              "      <th>11</th>\n",
              "      <td>Hardware básico</td>\n",
              "      <td>25</td>\n",
              "    </tr>\n",
              "    <tr>\n",
              "      <th>12</th>\n",
              "      <td>Persistência com .NET</td>\n",
              "      <td>52</td>\n",
              "    </tr>\n",
              "    <tr>\n",
              "      <th>13</th>\n",
              "      <td>Desenvolvendo jogos</td>\n",
              "      <td>70</td>\n",
              "    </tr>\n",
              "    <tr>\n",
              "      <th>14</th>\n",
              "      <td>Análise de dados</td>\n",
              "      <td>70</td>\n",
              "    </tr>\n",
              "    <tr>\n",
              "      <th>15</th>\n",
              "      <td>Estatística básica</td>\n",
              "      <td>5</td>\n",
              "    </tr>\n",
              "    <tr>\n",
              "      <th>16</th>\n",
              "      <td>Internet das coisas</td>\n",
              "      <td>38</td>\n",
              "    </tr>\n",
              "    <tr>\n",
              "      <th>17</th>\n",
              "      <td>Programação funcional</td>\n",
              "      <td>19</td>\n",
              "    </tr>\n",
              "    <tr>\n",
              "      <th>18</th>\n",
              "      <td>Boas práticas em Java</td>\n",
              "      <td>27</td>\n",
              "    </tr>\n",
              "    <tr>\n",
              "      <th>19</th>\n",
              "      <td>Orientação objetos com Java</td>\n",
              "      <td>87</td>\n",
              "    </tr>\n",
              "  </tbody>\n",
              "</table>\n",
              "</div>"
            ],
            "text/plain": [
              "                          Nome_do_curso  quantidade_de_alunos\n",
              "0                 Lógica de programação                    56\n",
              "1                         Java para Web                    36\n",
              "2                           C# para Web                    67\n",
              "3                         Ruby on Rails                    97\n",
              "4                      Cursos de Python                    10\n",
              "5                         PHP com MySql                    28\n",
              "6                         .NET para web                     5\n",
              "7            Novas integrações com Java                    10\n",
              "8                          TDD com Java                    17\n",
              "9                   Código limpo com C#                    45\n",
              "10  Preparatório para certificação Java                    84\n",
              "11                      Hardware básico                    25\n",
              "12                Persistência com .NET                    52\n",
              "13                  Desenvolvendo jogos                    70\n",
              "14                     Análise de dados                    70\n",
              "15                   Estatística básica                     5\n",
              "16                  Internet das coisas                    38\n",
              "17                Programação funcional                    19\n",
              "18                Boas práticas em Java                    27\n",
              "19          Orientação objetos com Java                    87"
            ]
          },
          "metadata": {
            "tags": []
          },
          "execution_count": 128
        }
      ]
    },
    {
      "cell_type": "code",
      "metadata": {
        "id": "i7H3R7P1rmx8"
      },
      "source": [
        "muitas_matriculas = muitas_matriculas.query('quantidade_de_alunos > 80')"
      ],
      "execution_count": 129,
      "outputs": []
    },
    {
      "cell_type": "code",
      "metadata": {
        "colab": {
          "base_uri": "https://localhost:8080/",
          "height": 0
        },
        "id": "SLoawwSPrxQE",
        "outputId": "90151156-3d1b-4014-b39a-435451f344f4"
      },
      "source": [
        "muitas_matriculas"
      ],
      "execution_count": 130,
      "outputs": [
        {
          "output_type": "execute_result",
          "data": {
            "text/html": [
              "<div>\n",
              "<style scoped>\n",
              "    .dataframe tbody tr th:only-of-type {\n",
              "        vertical-align: middle;\n",
              "    }\n",
              "\n",
              "    .dataframe tbody tr th {\n",
              "        vertical-align: top;\n",
              "    }\n",
              "\n",
              "    .dataframe thead th {\n",
              "        text-align: right;\n",
              "    }\n",
              "</style>\n",
              "<table border=\"1\" class=\"dataframe\">\n",
              "  <thead>\n",
              "    <tr style=\"text-align: right;\">\n",
              "      <th></th>\n",
              "      <th>Nome_do_curso</th>\n",
              "      <th>quantidade_de_alunos</th>\n",
              "    </tr>\n",
              "  </thead>\n",
              "  <tbody>\n",
              "    <tr>\n",
              "      <th>3</th>\n",
              "      <td>Ruby on Rails</td>\n",
              "      <td>97</td>\n",
              "    </tr>\n",
              "    <tr>\n",
              "      <th>10</th>\n",
              "      <td>Preparatório para certificação Java</td>\n",
              "      <td>84</td>\n",
              "    </tr>\n",
              "    <tr>\n",
              "      <th>19</th>\n",
              "      <td>Orientação objetos com Java</td>\n",
              "      <td>87</td>\n",
              "    </tr>\n",
              "  </tbody>\n",
              "</table>\n",
              "</div>"
            ],
            "text/plain": [
              "                          Nome_do_curso  quantidade_de_alunos\n",
              "3                         Ruby on Rails                    97\n",
              "10  Preparatório para certificação Java                    84\n",
              "19          Orientação objetos com Java                    87"
            ]
          },
          "metadata": {
            "tags": []
          },
          "execution_count": 130
        }
      ]
    },
    {
      "cell_type": "markdown",
      "metadata": {
        "id": "RsZDjgd7r-Pf"
      },
      "source": [
        "# Escrevendo no Banco"
      ]
    },
    {
      "cell_type": "code",
      "metadata": {
        "id": "IfCLVD17r5_s"
      },
      "source": [
        "muitas_matriculas.to_sql('muitas_matriculas', con = engine)"
      ],
      "execution_count": 131,
      "outputs": []
    },
    {
      "cell_type": "code",
      "metadata": {
        "colab": {
          "base_uri": "https://localhost:8080/"
        },
        "id": "o-IraJNysJNY",
        "outputId": "ed240901-e2a2-451a-d46d-9d7538749405"
      },
      "source": [
        "print(engine.table_names())"
      ],
      "execution_count": 132,
      "outputs": [
        {
          "output_type": "stream",
          "text": [
            "['matriculas', 'muitas_matriculas']\n"
          ],
          "name": "stdout"
        },
        {
          "output_type": "stream",
          "text": [
            "/usr/local/lib/python3.7/dist-packages/ipykernel_launcher.py:1: SADeprecationWarning: The Engine.table_names() method is deprecated and will be removed in a future release.  Please refer to Inspector.get_table_names(). (deprecated since: 1.4)\n",
            "  \"\"\"Entry point for launching an IPython kernel.\n"
          ],
          "name": "stderr"
        }
      ]
    },
    {
      "cell_type": "markdown",
      "metadata": {
        "id": "OsfLnV7cxNmq"
      },
      "source": [
        "# Nomes dos alunos da proxima turma"
      ]
    },
    {
      "cell_type": "code",
      "metadata": {
        "colab": {
          "base_uri": "https://localhost:8080/",
          "height": 700
        },
        "id": "f0BB_uCWsOBL",
        "outputId": "a1e8bd59-7243-404a-fbc0-5b0c2e31c670"
      },
      "source": [
        "matriculas_por_curso"
      ],
      "execution_count": 133,
      "outputs": [
        {
          "output_type": "execute_result",
          "data": {
            "text/html": [
              "<div>\n",
              "<style scoped>\n",
              "    .dataframe tbody tr th:only-of-type {\n",
              "        vertical-align: middle;\n",
              "    }\n",
              "\n",
              "    .dataframe tbody tr th {\n",
              "        vertical-align: top;\n",
              "    }\n",
              "\n",
              "    .dataframe thead th {\n",
              "        text-align: right;\n",
              "    }\n",
              "</style>\n",
              "<table border=\"1\" class=\"dataframe\">\n",
              "  <thead>\n",
              "    <tr style=\"text-align: right;\">\n",
              "      <th></th>\n",
              "      <th>quantidade_de_alunos</th>\n",
              "      <th>Nome_do_curso</th>\n",
              "    </tr>\n",
              "    <tr>\n",
              "      <th>id_curso</th>\n",
              "      <th></th>\n",
              "      <th></th>\n",
              "    </tr>\n",
              "  </thead>\n",
              "  <tbody>\n",
              "    <tr>\n",
              "      <th>1</th>\n",
              "      <td>56</td>\n",
              "      <td>Lógica de programação</td>\n",
              "    </tr>\n",
              "    <tr>\n",
              "      <th>2</th>\n",
              "      <td>36</td>\n",
              "      <td>Java para Web</td>\n",
              "    </tr>\n",
              "    <tr>\n",
              "      <th>3</th>\n",
              "      <td>67</td>\n",
              "      <td>C# para Web</td>\n",
              "    </tr>\n",
              "    <tr>\n",
              "      <th>4</th>\n",
              "      <td>97</td>\n",
              "      <td>Ruby on Rails</td>\n",
              "    </tr>\n",
              "    <tr>\n",
              "      <th>5</th>\n",
              "      <td>10</td>\n",
              "      <td>Cursos de Python</td>\n",
              "    </tr>\n",
              "    <tr>\n",
              "      <th>6</th>\n",
              "      <td>28</td>\n",
              "      <td>PHP com MySql</td>\n",
              "    </tr>\n",
              "    <tr>\n",
              "      <th>7</th>\n",
              "      <td>5</td>\n",
              "      <td>.NET para web</td>\n",
              "    </tr>\n",
              "    <tr>\n",
              "      <th>8</th>\n",
              "      <td>10</td>\n",
              "      <td>Novas integrações com Java</td>\n",
              "    </tr>\n",
              "    <tr>\n",
              "      <th>9</th>\n",
              "      <td>17</td>\n",
              "      <td>TDD com Java</td>\n",
              "    </tr>\n",
              "    <tr>\n",
              "      <th>10</th>\n",
              "      <td>45</td>\n",
              "      <td>Código limpo com C#</td>\n",
              "    </tr>\n",
              "    <tr>\n",
              "      <th>11</th>\n",
              "      <td>84</td>\n",
              "      <td>Preparatório para certificação Java</td>\n",
              "    </tr>\n",
              "    <tr>\n",
              "      <th>12</th>\n",
              "      <td>25</td>\n",
              "      <td>Hardware básico</td>\n",
              "    </tr>\n",
              "    <tr>\n",
              "      <th>13</th>\n",
              "      <td>52</td>\n",
              "      <td>Persistência com .NET</td>\n",
              "    </tr>\n",
              "    <tr>\n",
              "      <th>14</th>\n",
              "      <td>70</td>\n",
              "      <td>Desenvolvendo jogos</td>\n",
              "    </tr>\n",
              "    <tr>\n",
              "      <th>15</th>\n",
              "      <td>70</td>\n",
              "      <td>Análise de dados</td>\n",
              "    </tr>\n",
              "    <tr>\n",
              "      <th>16</th>\n",
              "      <td>5</td>\n",
              "      <td>Estatística básica</td>\n",
              "    </tr>\n",
              "    <tr>\n",
              "      <th>17</th>\n",
              "      <td>38</td>\n",
              "      <td>Internet das coisas</td>\n",
              "    </tr>\n",
              "    <tr>\n",
              "      <th>18</th>\n",
              "      <td>19</td>\n",
              "      <td>Programação funcional</td>\n",
              "    </tr>\n",
              "    <tr>\n",
              "      <th>19</th>\n",
              "      <td>27</td>\n",
              "      <td>Boas práticas em Java</td>\n",
              "    </tr>\n",
              "    <tr>\n",
              "      <th>20</th>\n",
              "      <td>87</td>\n",
              "      <td>Orientação objetos com Java</td>\n",
              "    </tr>\n",
              "  </tbody>\n",
              "</table>\n",
              "</div>"
            ],
            "text/plain": [
              "          quantidade_de_alunos                        Nome_do_curso\n",
              "id_curso                                                           \n",
              "1                           56                Lógica de programação\n",
              "2                           36                        Java para Web\n",
              "3                           67                          C# para Web\n",
              "4                           97                        Ruby on Rails\n",
              "5                           10                     Cursos de Python\n",
              "6                           28                        PHP com MySql\n",
              "7                            5                        .NET para web\n",
              "8                           10           Novas integrações com Java\n",
              "9                           17                         TDD com Java\n",
              "10                          45                  Código limpo com C#\n",
              "11                          84  Preparatório para certificação Java\n",
              "12                          25                      Hardware básico\n",
              "13                          52                Persistência com .NET\n",
              "14                          70                  Desenvolvendo jogos\n",
              "15                          70                     Análise de dados\n",
              "16                           5                   Estatística básica\n",
              "17                          38                  Internet das coisas\n",
              "18                          19                Programação funcional\n",
              "19                          27                Boas práticas em Java\n",
              "20                          87          Orientação objetos com Java"
            ]
          },
          "metadata": {
            "tags": []
          },
          "execution_count": 133
        }
      ]
    },
    {
      "cell_type": "code",
      "metadata": {
        "colab": {
          "base_uri": "https://localhost:8080/",
          "height": 204
        },
        "id": "0DGWALkcxXfo",
        "outputId": "1653e3c3-ce63-457d-98e6-9db21585b771"
      },
      "source": [
        "matriculas.head()"
      ],
      "execution_count": 134,
      "outputs": [
        {
          "output_type": "execute_result",
          "data": {
            "text/html": [
              "<div>\n",
              "<style scoped>\n",
              "    .dataframe tbody tr th:only-of-type {\n",
              "        vertical-align: middle;\n",
              "    }\n",
              "\n",
              "    .dataframe tbody tr th {\n",
              "        vertical-align: top;\n",
              "    }\n",
              "\n",
              "    .dataframe thead th {\n",
              "        text-align: right;\n",
              "    }\n",
              "</style>\n",
              "<table border=\"1\" class=\"dataframe\">\n",
              "  <thead>\n",
              "    <tr style=\"text-align: right;\">\n",
              "      <th></th>\n",
              "      <th>id_aluno</th>\n",
              "      <th>id_curso</th>\n",
              "    </tr>\n",
              "  </thead>\n",
              "  <tbody>\n",
              "    <tr>\n",
              "      <th>0</th>\n",
              "      <td>189</td>\n",
              "      <td>13</td>\n",
              "    </tr>\n",
              "    <tr>\n",
              "      <th>1</th>\n",
              "      <td>58</td>\n",
              "      <td>4</td>\n",
              "    </tr>\n",
              "    <tr>\n",
              "      <th>2</th>\n",
              "      <td>58</td>\n",
              "      <td>4</td>\n",
              "    </tr>\n",
              "    <tr>\n",
              "      <th>3</th>\n",
              "      <td>58</td>\n",
              "      <td>4</td>\n",
              "    </tr>\n",
              "    <tr>\n",
              "      <th>4</th>\n",
              "      <td>58</td>\n",
              "      <td>10</td>\n",
              "    </tr>\n",
              "  </tbody>\n",
              "</table>\n",
              "</div>"
            ],
            "text/plain": [
              "   id_aluno  id_curso\n",
              "0       189        13\n",
              "1        58         4\n",
              "2        58         4\n",
              "3        58         4\n",
              "4        58        10"
            ]
          },
          "metadata": {
            "tags": []
          },
          "execution_count": 134
        }
      ]
    },
    {
      "cell_type": "code",
      "metadata": {
        "id": "9uvVmV6Zxa3a",
        "colab": {
          "base_uri": "https://localhost:8080/",
          "height": 419
        },
        "outputId": "0179423a-d1a9-43f7-c61e-59340f866d2e"
      },
      "source": [
        "matriculas"
      ],
      "execution_count": 135,
      "outputs": [
        {
          "output_type": "execute_result",
          "data": {
            "text/html": [
              "<div>\n",
              "<style scoped>\n",
              "    .dataframe tbody tr th:only-of-type {\n",
              "        vertical-align: middle;\n",
              "    }\n",
              "\n",
              "    .dataframe tbody tr th {\n",
              "        vertical-align: top;\n",
              "    }\n",
              "\n",
              "    .dataframe thead th {\n",
              "        text-align: right;\n",
              "    }\n",
              "</style>\n",
              "<table border=\"1\" class=\"dataframe\">\n",
              "  <thead>\n",
              "    <tr style=\"text-align: right;\">\n",
              "      <th></th>\n",
              "      <th>id_aluno</th>\n",
              "      <th>id_curso</th>\n",
              "    </tr>\n",
              "  </thead>\n",
              "  <tbody>\n",
              "    <tr>\n",
              "      <th>0</th>\n",
              "      <td>189</td>\n",
              "      <td>13</td>\n",
              "    </tr>\n",
              "    <tr>\n",
              "      <th>1</th>\n",
              "      <td>58</td>\n",
              "      <td>4</td>\n",
              "    </tr>\n",
              "    <tr>\n",
              "      <th>2</th>\n",
              "      <td>58</td>\n",
              "      <td>4</td>\n",
              "    </tr>\n",
              "    <tr>\n",
              "      <th>3</th>\n",
              "      <td>58</td>\n",
              "      <td>4</td>\n",
              "    </tr>\n",
              "    <tr>\n",
              "      <th>4</th>\n",
              "      <td>58</td>\n",
              "      <td>10</td>\n",
              "    </tr>\n",
              "    <tr>\n",
              "      <th>...</th>\n",
              "      <td>...</td>\n",
              "      <td>...</td>\n",
              "    </tr>\n",
              "    <tr>\n",
              "      <th>843</th>\n",
              "      <td>50</td>\n",
              "      <td>20</td>\n",
              "    </tr>\n",
              "    <tr>\n",
              "      <th>844</th>\n",
              "      <td>244</td>\n",
              "      <td>18</td>\n",
              "    </tr>\n",
              "    <tr>\n",
              "      <th>845</th>\n",
              "      <td>387</td>\n",
              "      <td>15</td>\n",
              "    </tr>\n",
              "    <tr>\n",
              "      <th>846</th>\n",
              "      <td>387</td>\n",
              "      <td>14</td>\n",
              "    </tr>\n",
              "    <tr>\n",
              "      <th>847</th>\n",
              "      <td>387</td>\n",
              "      <td>17</td>\n",
              "    </tr>\n",
              "  </tbody>\n",
              "</table>\n",
              "<p>848 rows × 2 columns</p>\n",
              "</div>"
            ],
            "text/plain": [
              "     id_aluno  id_curso\n",
              "0         189        13\n",
              "1          58         4\n",
              "2          58         4\n",
              "3          58         4\n",
              "4          58        10\n",
              "..        ...       ...\n",
              "843        50        20\n",
              "844       244        18\n",
              "845       387        15\n",
              "846       387        14\n",
              "847       387        17\n",
              "\n",
              "[848 rows x 2 columns]"
            ]
          },
          "metadata": {
            "tags": []
          },
          "execution_count": 135
        }
      ]
    },
    {
      "cell_type": "code",
      "metadata": {
        "id": "9W3nhUd6iD1w"
      },
      "source": [
        "id_curso = 16"
      ],
      "execution_count": 136,
      "outputs": []
    },
    {
      "cell_type": "code",
      "metadata": {
        "id": "dyUQKV-miQhX"
      },
      "source": [
        "id_curso = 16\n",
        "proxima_turma = matriculas.query(\"id_curso == {}\".format(id_curso))"
      ],
      "execution_count": 138,
      "outputs": []
    },
    {
      "cell_type": "code",
      "metadata": {
        "colab": {
          "base_uri": "https://localhost:8080/",
          "height": 204
        },
        "id": "wCHzjvKTizS8",
        "outputId": "b74559e4-e1a9-4922-cb00-3fbc08ce27c7"
      },
      "source": [
        "proxima_turma"
      ],
      "execution_count": 139,
      "outputs": [
        {
          "output_type": "execute_result",
          "data": {
            "text/html": [
              "<div>\n",
              "<style scoped>\n",
              "    .dataframe tbody tr th:only-of-type {\n",
              "        vertical-align: middle;\n",
              "    }\n",
              "\n",
              "    .dataframe tbody tr th {\n",
              "        vertical-align: top;\n",
              "    }\n",
              "\n",
              "    .dataframe thead th {\n",
              "        text-align: right;\n",
              "    }\n",
              "</style>\n",
              "<table border=\"1\" class=\"dataframe\">\n",
              "  <thead>\n",
              "    <tr style=\"text-align: right;\">\n",
              "      <th></th>\n",
              "      <th>id_aluno</th>\n",
              "      <th>id_curso</th>\n",
              "    </tr>\n",
              "  </thead>\n",
              "  <tbody>\n",
              "    <tr>\n",
              "      <th>200</th>\n",
              "      <td>217</td>\n",
              "      <td>16</td>\n",
              "    </tr>\n",
              "    <tr>\n",
              "      <th>279</th>\n",
              "      <td>355</td>\n",
              "      <td>16</td>\n",
              "    </tr>\n",
              "    <tr>\n",
              "      <th>389</th>\n",
              "      <td>86</td>\n",
              "      <td>16</td>\n",
              "    </tr>\n",
              "    <tr>\n",
              "      <th>420</th>\n",
              "      <td>113</td>\n",
              "      <td>16</td>\n",
              "    </tr>\n",
              "    <tr>\n",
              "      <th>798</th>\n",
              "      <td>181</td>\n",
              "      <td>16</td>\n",
              "    </tr>\n",
              "  </tbody>\n",
              "</table>\n",
              "</div>"
            ],
            "text/plain": [
              "     id_aluno  id_curso\n",
              "200       217        16\n",
              "279       355        16\n",
              "389        86        16\n",
              "420       113        16\n",
              "798       181        16"
            ]
          },
          "metadata": {
            "tags": []
          },
          "execution_count": 139
        }
      ]
    },
    {
      "cell_type": "code",
      "metadata": {
        "colab": {
          "base_uri": "https://localhost:8080/",
          "height": 80
        },
        "id": "f8ixTXPoi4jP",
        "outputId": "c1658dc7-8f7f-43fd-9b82-d1c022101f4b"
      },
      "source": [
        "nomes.sample()"
      ],
      "execution_count": 140,
      "outputs": [
        {
          "output_type": "execute_result",
          "data": {
            "text/html": [
              "<div>\n",
              "<style scoped>\n",
              "    .dataframe tbody tr th:only-of-type {\n",
              "        vertical-align: middle;\n",
              "    }\n",
              "\n",
              "    .dataframe tbody tr th {\n",
              "        vertical-align: top;\n",
              "    }\n",
              "\n",
              "    .dataframe thead th {\n",
              "        text-align: right;\n",
              "    }\n",
              "</style>\n",
              "<table border=\"1\" class=\"dataframe\">\n",
              "  <thead>\n",
              "    <tr style=\"text-align: right;\">\n",
              "      <th></th>\n",
              "      <th>nome</th>\n",
              "      <th>id_aluno</th>\n",
              "      <th>dominio</th>\n",
              "      <th>email</th>\n",
              "      <th>matriculas</th>\n",
              "    </tr>\n",
              "  </thead>\n",
              "  <tbody>\n",
              "    <tr>\n",
              "      <th>22</th>\n",
              "      <td>ANDRE</td>\n",
              "      <td>364</td>\n",
              "      <td>@dominiodoemmail.com.br</td>\n",
              "      <td>andre@dominiodoemmail.com.br</td>\n",
              "      <td>2</td>\n",
              "    </tr>\n",
              "  </tbody>\n",
              "</table>\n",
              "</div>"
            ],
            "text/plain": [
              "     nome  id_aluno  ...                         email matriculas\n",
              "22  ANDRE       364  ...  andre@dominiodoemmail.com.br          2\n",
              "\n",
              "[1 rows x 5 columns]"
            ]
          },
          "metadata": {
            "tags": []
          },
          "execution_count": 140
        }
      ]
    },
    {
      "cell_type": "code",
      "metadata": {
        "colab": {
          "base_uri": "https://localhost:8080/",
          "height": 235
        },
        "id": "Kt1bAda-jAJw",
        "outputId": "f8631daa-0516-4ae1-aaf2-75db3943db07"
      },
      "source": [
        "proxima_turma.set_index('id_aluno').join(nomes.set_index('id_aluno'))"
      ],
      "execution_count": 141,
      "outputs": [
        {
          "output_type": "execute_result",
          "data": {
            "text/html": [
              "<div>\n",
              "<style scoped>\n",
              "    .dataframe tbody tr th:only-of-type {\n",
              "        vertical-align: middle;\n",
              "    }\n",
              "\n",
              "    .dataframe tbody tr th {\n",
              "        vertical-align: top;\n",
              "    }\n",
              "\n",
              "    .dataframe thead th {\n",
              "        text-align: right;\n",
              "    }\n",
              "</style>\n",
              "<table border=\"1\" class=\"dataframe\">\n",
              "  <thead>\n",
              "    <tr style=\"text-align: right;\">\n",
              "      <th></th>\n",
              "      <th>id_curso</th>\n",
              "      <th>nome</th>\n",
              "      <th>dominio</th>\n",
              "      <th>email</th>\n",
              "      <th>matriculas</th>\n",
              "    </tr>\n",
              "    <tr>\n",
              "      <th>id_aluno</th>\n",
              "      <th></th>\n",
              "      <th></th>\n",
              "      <th></th>\n",
              "      <th></th>\n",
              "      <th></th>\n",
              "    </tr>\n",
              "  </thead>\n",
              "  <tbody>\n",
              "    <tr>\n",
              "      <th>217</th>\n",
              "      <td>16</td>\n",
              "      <td>SABRINA</td>\n",
              "      <td>@dominiodoemmail.com.br</td>\n",
              "      <td>sabrina@dominiodoemmail.com.br</td>\n",
              "      <td>2</td>\n",
              "    </tr>\n",
              "    <tr>\n",
              "      <th>355</th>\n",
              "      <td>16</td>\n",
              "      <td>SEBASTIANA</td>\n",
              "      <td>@dominiodoemmail.com.br</td>\n",
              "      <td>sebastiana@dominiodoemmail.com.br</td>\n",
              "      <td>4</td>\n",
              "    </tr>\n",
              "    <tr>\n",
              "      <th>86</th>\n",
              "      <td>16</td>\n",
              "      <td>JENIFER</td>\n",
              "      <td>@servicodoemail.com</td>\n",
              "      <td>jenifer@servicodoemail.com</td>\n",
              "      <td>2</td>\n",
              "    </tr>\n",
              "    <tr>\n",
              "      <th>113</th>\n",
              "      <td>16</td>\n",
              "      <td>ZILDA</td>\n",
              "      <td>@servicodoemail.com</td>\n",
              "      <td>zilda@servicodoemail.com</td>\n",
              "      <td>3</td>\n",
              "    </tr>\n",
              "    <tr>\n",
              "      <th>181</th>\n",
              "      <td>16</td>\n",
              "      <td>ALEXANDRO</td>\n",
              "      <td>@servicodoemail.com</td>\n",
              "      <td>alexandro@servicodoemail.com</td>\n",
              "      <td>1</td>\n",
              "    </tr>\n",
              "  </tbody>\n",
              "</table>\n",
              "</div>"
            ],
            "text/plain": [
              "          id_curso        nome  ...                              email matriculas\n",
              "id_aluno                        ...                                              \n",
              "217             16     SABRINA  ...     sabrina@dominiodoemmail.com.br          2\n",
              "355             16  SEBASTIANA  ...  sebastiana@dominiodoemmail.com.br          4\n",
              "86              16     JENIFER  ...         jenifer@servicodoemail.com          2\n",
              "113             16       ZILDA  ...           zilda@servicodoemail.com          3\n",
              "181             16   ALEXANDRO  ...       alexandro@servicodoemail.com          1\n",
              "\n",
              "[5 rows x 5 columns]"
            ]
          },
          "metadata": {
            "tags": []
          },
          "execution_count": 141
        }
      ]
    },
    {
      "cell_type": "code",
      "metadata": {
        "colab": {
          "base_uri": "https://localhost:8080/"
        },
        "id": "RQDGp772jYkX",
        "outputId": "78966b7a-69cc-4680-cf7e-5a54e262fc68"
      },
      "source": [
        "proxima_turma.set_index('id_aluno').join(nomes.set_index('id_aluno'))['nome']"
      ],
      "execution_count": 142,
      "outputs": [
        {
          "output_type": "execute_result",
          "data": {
            "text/plain": [
              "id_aluno\n",
              "217       SABRINA\n",
              "355    SEBASTIANA\n",
              "86        JENIFER\n",
              "113         ZILDA\n",
              "181     ALEXANDRO\n",
              "Name: nome, dtype: object"
            ]
          },
          "metadata": {
            "tags": []
          },
          "execution_count": 142
        }
      ]
    },
    {
      "cell_type": "code",
      "metadata": {
        "colab": {
          "base_uri": "https://localhost:8080/",
          "height": 235
        },
        "id": "38dTknvJjrjY",
        "outputId": "12bb0550-f78b-4e97-d823-c3f372617c27"
      },
      "source": [
        "proxima_turma.set_index('id_aluno').join(nomes.set_index('id_aluno'))['nome'].to_frame()"
      ],
      "execution_count": 163,
      "outputs": [
        {
          "output_type": "execute_result",
          "data": {
            "text/html": [
              "<div>\n",
              "<style scoped>\n",
              "    .dataframe tbody tr th:only-of-type {\n",
              "        vertical-align: middle;\n",
              "    }\n",
              "\n",
              "    .dataframe tbody tr th {\n",
              "        vertical-align: top;\n",
              "    }\n",
              "\n",
              "    .dataframe thead th {\n",
              "        text-align: right;\n",
              "    }\n",
              "</style>\n",
              "<table border=\"1\" class=\"dataframe\">\n",
              "  <thead>\n",
              "    <tr style=\"text-align: right;\">\n",
              "      <th></th>\n",
              "      <th>nome</th>\n",
              "    </tr>\n",
              "    <tr>\n",
              "      <th>id_aluno</th>\n",
              "      <th></th>\n",
              "    </tr>\n",
              "  </thead>\n",
              "  <tbody>\n",
              "    <tr>\n",
              "      <th>217</th>\n",
              "      <td>SABRINA</td>\n",
              "    </tr>\n",
              "    <tr>\n",
              "      <th>355</th>\n",
              "      <td>SEBASTIANA</td>\n",
              "    </tr>\n",
              "    <tr>\n",
              "      <th>86</th>\n",
              "      <td>JENIFER</td>\n",
              "    </tr>\n",
              "    <tr>\n",
              "      <th>113</th>\n",
              "      <td>ZILDA</td>\n",
              "    </tr>\n",
              "    <tr>\n",
              "      <th>181</th>\n",
              "      <td>ALEXANDRO</td>\n",
              "    </tr>\n",
              "  </tbody>\n",
              "</table>\n",
              "</div>"
            ],
            "text/plain": [
              "                nome\n",
              "id_aluno            \n",
              "217          SABRINA\n",
              "355       SEBASTIANA\n",
              "86           JENIFER\n",
              "113            ZILDA\n",
              "181        ALEXANDRO"
            ]
          },
          "metadata": {
            "tags": []
          },
          "execution_count": 163
        }
      ]
    },
    {
      "cell_type": "code",
      "metadata": {
        "colab": {
          "base_uri": "https://localhost:8080/"
        },
        "id": "DYrI_9B3j0Kr",
        "outputId": "d0057c00-a205-4f53-9e1f-2710935a63c0"
      },
      "source": [
        "nome_curso = cursos.loc[id_curso]\n",
        "nome_curso"
      ],
      "execution_count": 164,
      "outputs": [
        {
          "output_type": "execute_result",
          "data": {
            "text/plain": [
              "Nome_do_curso    Estatística básica\n",
              "Name: 16, dtype: object"
            ]
          },
          "metadata": {
            "tags": []
          },
          "execution_count": 164
        }
      ]
    },
    {
      "cell_type": "code",
      "metadata": {
        "colab": {
          "base_uri": "https://localhost:8080/",
          "height": 35
        },
        "id": "cC36CHalkMB1",
        "outputId": "05eec870-1397-4366-8c27-7ba7b2f2fecd"
      },
      "source": [
        "nome_curso = nome_curso.Nome_do_curso\n",
        "nome_curso"
      ],
      "execution_count": 165,
      "outputs": [
        {
          "output_type": "execute_result",
          "data": {
            "application/vnd.google.colaboratory.intrinsic+json": {
              "type": "string"
            },
            "text/plain": [
              "'Estatística básica'"
            ]
          },
          "metadata": {
            "tags": []
          },
          "execution_count": 165
        }
      ]
    },
    {
      "cell_type": "code",
      "metadata": {
        "id": "hkeXjHVnpnTM"
      },
      "source": [
        "proxima_turma = proxima_turma.set_index('id_aluno').join(nomes.set_index('id_aluno'))['nome'].to_frame()"
      ],
      "execution_count": 166,
      "outputs": []
    },
    {
      "cell_type": "code",
      "metadata": {
        "colab": {
          "base_uri": "https://localhost:8080/",
          "height": 235
        },
        "id": "Qlr7y1jNlj0p",
        "outputId": "e3febb76-623c-49f0-959a-73d3059e06b0"
      },
      "source": [
        "proxima_turma.rename(columns = {'nome':'Alunos do curso de {}'.format(nome_curso)})"
      ],
      "execution_count": 167,
      "outputs": [
        {
          "output_type": "execute_result",
          "data": {
            "text/html": [
              "<div>\n",
              "<style scoped>\n",
              "    .dataframe tbody tr th:only-of-type {\n",
              "        vertical-align: middle;\n",
              "    }\n",
              "\n",
              "    .dataframe tbody tr th {\n",
              "        vertical-align: top;\n",
              "    }\n",
              "\n",
              "    .dataframe thead th {\n",
              "        text-align: right;\n",
              "    }\n",
              "</style>\n",
              "<table border=\"1\" class=\"dataframe\">\n",
              "  <thead>\n",
              "    <tr style=\"text-align: right;\">\n",
              "      <th></th>\n",
              "      <th>Alunos do curso de Estatística básica</th>\n",
              "    </tr>\n",
              "    <tr>\n",
              "      <th>id_aluno</th>\n",
              "      <th></th>\n",
              "    </tr>\n",
              "  </thead>\n",
              "  <tbody>\n",
              "    <tr>\n",
              "      <th>217</th>\n",
              "      <td>SABRINA</td>\n",
              "    </tr>\n",
              "    <tr>\n",
              "      <th>355</th>\n",
              "      <td>SEBASTIANA</td>\n",
              "    </tr>\n",
              "    <tr>\n",
              "      <th>86</th>\n",
              "      <td>JENIFER</td>\n",
              "    </tr>\n",
              "    <tr>\n",
              "      <th>113</th>\n",
              "      <td>ZILDA</td>\n",
              "    </tr>\n",
              "    <tr>\n",
              "      <th>181</th>\n",
              "      <td>ALEXANDRO</td>\n",
              "    </tr>\n",
              "  </tbody>\n",
              "</table>\n",
              "</div>"
            ],
            "text/plain": [
              "         Alunos do curso de Estatística básica\n",
              "id_aluno                                      \n",
              "217                                    SABRINA\n",
              "355                                 SEBASTIANA\n",
              "86                                     JENIFER\n",
              "113                                      ZILDA\n",
              "181                                  ALEXANDRO"
            ]
          },
          "metadata": {
            "tags": []
          },
          "execution_count": 167
        }
      ]
    },
    {
      "cell_type": "code",
      "metadata": {
        "id": "EeMA100FkZag"
      },
      "source": [
        "proxima_turma = proxima_turma.rename(columns = {'nome':'Alunos do curso de {}'.format(nome_curso)})"
      ],
      "execution_count": 168,
      "outputs": []
    },
    {
      "cell_type": "code",
      "metadata": {
        "colab": {
          "base_uri": "https://localhost:8080/",
          "height": 235
        },
        "id": "tJzI0RJpl0q8",
        "outputId": "a8dc41a0-4ded-4bc2-d3f6-f1275f208957"
      },
      "source": [
        "proxima_turma.sample(5)"
      ],
      "execution_count": 169,
      "outputs": [
        {
          "output_type": "execute_result",
          "data": {
            "text/html": [
              "<div>\n",
              "<style scoped>\n",
              "    .dataframe tbody tr th:only-of-type {\n",
              "        vertical-align: middle;\n",
              "    }\n",
              "\n",
              "    .dataframe tbody tr th {\n",
              "        vertical-align: top;\n",
              "    }\n",
              "\n",
              "    .dataframe thead th {\n",
              "        text-align: right;\n",
              "    }\n",
              "</style>\n",
              "<table border=\"1\" class=\"dataframe\">\n",
              "  <thead>\n",
              "    <tr style=\"text-align: right;\">\n",
              "      <th></th>\n",
              "      <th>Alunos do curso de Estatística básica</th>\n",
              "    </tr>\n",
              "    <tr>\n",
              "      <th>id_aluno</th>\n",
              "      <th></th>\n",
              "    </tr>\n",
              "  </thead>\n",
              "  <tbody>\n",
              "    <tr>\n",
              "      <th>355</th>\n",
              "      <td>SEBASTIANA</td>\n",
              "    </tr>\n",
              "    <tr>\n",
              "      <th>217</th>\n",
              "      <td>SABRINA</td>\n",
              "    </tr>\n",
              "    <tr>\n",
              "      <th>181</th>\n",
              "      <td>ALEXANDRO</td>\n",
              "    </tr>\n",
              "    <tr>\n",
              "      <th>113</th>\n",
              "      <td>ZILDA</td>\n",
              "    </tr>\n",
              "    <tr>\n",
              "      <th>86</th>\n",
              "      <td>JENIFER</td>\n",
              "    </tr>\n",
              "  </tbody>\n",
              "</table>\n",
              "</div>"
            ],
            "text/plain": [
              "         Alunos do curso de Estatística básica\n",
              "id_aluno                                      \n",
              "355                                 SEBASTIANA\n",
              "217                                    SABRINA\n",
              "181                                  ALEXANDRO\n",
              "113                                      ZILDA\n",
              "86                                     JENIFER"
            ]
          },
          "metadata": {
            "tags": []
          },
          "execution_count": 169
        }
      ]
    },
    {
      "cell_type": "code",
      "metadata": {
        "id": "r7y1Vs2Gl3aD"
      },
      "source": [
        "proxima_turma = proxima_turma.rename(columns = {'nome':'Alunos do curso de {}'.format(nome_curso)})"
      ],
      "execution_count": 154,
      "outputs": []
    },
    {
      "cell_type": "code",
      "metadata": {
        "colab": {
          "base_uri": "https://localhost:8080/",
          "height": 235
        },
        "id": "9tzjWTJmnjOb",
        "outputId": "f95b0a9f-0fc1-4911-d1ed-7384d48aa73a"
      },
      "source": [
        "proxima_turma"
      ],
      "execution_count": 170,
      "outputs": [
        {
          "output_type": "execute_result",
          "data": {
            "text/html": [
              "<div>\n",
              "<style scoped>\n",
              "    .dataframe tbody tr th:only-of-type {\n",
              "        vertical-align: middle;\n",
              "    }\n",
              "\n",
              "    .dataframe tbody tr th {\n",
              "        vertical-align: top;\n",
              "    }\n",
              "\n",
              "    .dataframe thead th {\n",
              "        text-align: right;\n",
              "    }\n",
              "</style>\n",
              "<table border=\"1\" class=\"dataframe\">\n",
              "  <thead>\n",
              "    <tr style=\"text-align: right;\">\n",
              "      <th></th>\n",
              "      <th>Alunos do curso de Estatística básica</th>\n",
              "    </tr>\n",
              "    <tr>\n",
              "      <th>id_aluno</th>\n",
              "      <th></th>\n",
              "    </tr>\n",
              "  </thead>\n",
              "  <tbody>\n",
              "    <tr>\n",
              "      <th>217</th>\n",
              "      <td>SABRINA</td>\n",
              "    </tr>\n",
              "    <tr>\n",
              "      <th>355</th>\n",
              "      <td>SEBASTIANA</td>\n",
              "    </tr>\n",
              "    <tr>\n",
              "      <th>86</th>\n",
              "      <td>JENIFER</td>\n",
              "    </tr>\n",
              "    <tr>\n",
              "      <th>113</th>\n",
              "      <td>ZILDA</td>\n",
              "    </tr>\n",
              "    <tr>\n",
              "      <th>181</th>\n",
              "      <td>ALEXANDRO</td>\n",
              "    </tr>\n",
              "  </tbody>\n",
              "</table>\n",
              "</div>"
            ],
            "text/plain": [
              "         Alunos do curso de Estatística básica\n",
              "id_aluno                                      \n",
              "217                                    SABRINA\n",
              "355                                 SEBASTIANA\n",
              "86                                     JENIFER\n",
              "113                                      ZILDA\n",
              "181                                  ALEXANDRO"
            ]
          },
          "metadata": {
            "tags": []
          },
          "execution_count": 170
        }
      ]
    },
    {
      "cell_type": "markdown",
      "metadata": {
        "id": "_vnDe9YOrYhq"
      },
      "source": [
        "# Excel"
      ]
    },
    {
      "cell_type": "code",
      "metadata": {
        "id": "CA9s3ZzQnkZk"
      },
      "source": [
        "proxima_turma.to_excel('proxima_turma.xlsx',index=False)"
      ],
      "execution_count": 172,
      "outputs": []
    },
    {
      "cell_type": "code",
      "metadata": {
        "colab": {
          "base_uri": "https://localhost:8080/",
          "height": 204
        },
        "id": "GWFn-M7Crqlf",
        "outputId": "79320caa-508b-429a-96fe-e581fb29a49c"
      },
      "source": [
        "pd.read_excel('proxima_turma.xlsx')"
      ],
      "execution_count": 173,
      "outputs": [
        {
          "output_type": "execute_result",
          "data": {
            "text/html": [
              "<div>\n",
              "<style scoped>\n",
              "    .dataframe tbody tr th:only-of-type {\n",
              "        vertical-align: middle;\n",
              "    }\n",
              "\n",
              "    .dataframe tbody tr th {\n",
              "        vertical-align: top;\n",
              "    }\n",
              "\n",
              "    .dataframe thead th {\n",
              "        text-align: right;\n",
              "    }\n",
              "</style>\n",
              "<table border=\"1\" class=\"dataframe\">\n",
              "  <thead>\n",
              "    <tr style=\"text-align: right;\">\n",
              "      <th></th>\n",
              "      <th>Alunos do curso de Estatística básica</th>\n",
              "    </tr>\n",
              "  </thead>\n",
              "  <tbody>\n",
              "    <tr>\n",
              "      <th>0</th>\n",
              "      <td>SABRINA</td>\n",
              "    </tr>\n",
              "    <tr>\n",
              "      <th>1</th>\n",
              "      <td>SEBASTIANA</td>\n",
              "    </tr>\n",
              "    <tr>\n",
              "      <th>2</th>\n",
              "      <td>JENIFER</td>\n",
              "    </tr>\n",
              "    <tr>\n",
              "      <th>3</th>\n",
              "      <td>ZILDA</td>\n",
              "    </tr>\n",
              "    <tr>\n",
              "      <th>4</th>\n",
              "      <td>ALEXANDRO</td>\n",
              "    </tr>\n",
              "  </tbody>\n",
              "</table>\n",
              "</div>"
            ],
            "text/plain": [
              "  Alunos do curso de Estatística básica\n",
              "0                               SABRINA\n",
              "1                            SEBASTIANA\n",
              "2                               JENIFER\n",
              "3                                 ZILDA\n",
              "4                             ALEXANDRO"
            ]
          },
          "metadata": {
            "tags": []
          },
          "execution_count": 173
        }
      ]
    },
    {
      "cell_type": "code",
      "metadata": {
        "id": "vbFEmlansOYe"
      },
      "source": [
        ""
      ],
      "execution_count": null,
      "outputs": []
    }
  ]
}